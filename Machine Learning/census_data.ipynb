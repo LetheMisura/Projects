{
 "cells": [
  {
   "cell_type": "markdown",
   "metadata": {},
   "source": [
    "# Part 0 "
   ]
  },
  {
   "cell_type": "code",
   "execution_count": 1,
   "metadata": {},
   "outputs": [
    {
     "data": {
      "text/html": [
       "<div>\n",
       "<style scoped>\n",
       "    .dataframe tbody tr th:only-of-type {\n",
       "        vertical-align: middle;\n",
       "    }\n",
       "\n",
       "    .dataframe tbody tr th {\n",
       "        vertical-align: top;\n",
       "    }\n",
       "\n",
       "    .dataframe thead th {\n",
       "        text-align: right;\n",
       "    }\n",
       "</style>\n",
       "<table border=\"1\" class=\"dataframe\">\n",
       "  <thead>\n",
       "    <tr style=\"text-align: right;\">\n",
       "      <th></th>\n",
       "      <th>age</th>\n",
       "      <th>workclass</th>\n",
       "      <th>fnlwgt</th>\n",
       "      <th>education</th>\n",
       "      <th>education-num</th>\n",
       "      <th>marital-status</th>\n",
       "      <th>occupation</th>\n",
       "      <th>relationship</th>\n",
       "      <th>race</th>\n",
       "      <th>sex</th>\n",
       "      <th>capital-gain</th>\n",
       "      <th>capital-loss</th>\n",
       "      <th>hours-per-week</th>\n",
       "      <th>native-country</th>\n",
       "      <th>annual-income</th>\n",
       "    </tr>\n",
       "  </thead>\n",
       "  <tbody>\n",
       "    <tr>\n",
       "      <th>0</th>\n",
       "      <td>73</td>\n",
       "      <td>Unknown</td>\n",
       "      <td>378922</td>\n",
       "      <td>HS-grad</td>\n",
       "      <td>9</td>\n",
       "      <td>Married-spouse-absent</td>\n",
       "      <td>Unknown</td>\n",
       "      <td>Not-in-family</td>\n",
       "      <td>White</td>\n",
       "      <td>Female</td>\n",
       "      <td>0</td>\n",
       "      <td>0</td>\n",
       "      <td>20</td>\n",
       "      <td>Canada</td>\n",
       "      <td>&lt;=50K</td>\n",
       "    </tr>\n",
       "    <tr>\n",
       "      <th>1</th>\n",
       "      <td>46</td>\n",
       "      <td>Private</td>\n",
       "      <td>207807</td>\n",
       "      <td>10th</td>\n",
       "      <td>6</td>\n",
       "      <td>Married-civ-spouse</td>\n",
       "      <td>Machine-op-inspct</td>\n",
       "      <td>Wife</td>\n",
       "      <td>Black</td>\n",
       "      <td>Female</td>\n",
       "      <td>0</td>\n",
       "      <td>0</td>\n",
       "      <td>30</td>\n",
       "      <td>United-States</td>\n",
       "      <td>&lt;=50K</td>\n",
       "    </tr>\n",
       "    <tr>\n",
       "      <th>2</th>\n",
       "      <td>55</td>\n",
       "      <td>Self-emp-not-inc</td>\n",
       "      <td>319733</td>\n",
       "      <td>HS-grad</td>\n",
       "      <td>9</td>\n",
       "      <td>Married-civ-spouse</td>\n",
       "      <td>Craft-repair</td>\n",
       "      <td>Husband</td>\n",
       "      <td>White</td>\n",
       "      <td>Male</td>\n",
       "      <td>0</td>\n",
       "      <td>0</td>\n",
       "      <td>40</td>\n",
       "      <td>United-States</td>\n",
       "      <td>&lt;=50K</td>\n",
       "    </tr>\n",
       "    <tr>\n",
       "      <th>3</th>\n",
       "      <td>38</td>\n",
       "      <td>Unknown</td>\n",
       "      <td>365465</td>\n",
       "      <td>Assoc-voc</td>\n",
       "      <td>11</td>\n",
       "      <td>Never-married</td>\n",
       "      <td>Unknown</td>\n",
       "      <td>Own-child</td>\n",
       "      <td>White</td>\n",
       "      <td>Male</td>\n",
       "      <td>0</td>\n",
       "      <td>0</td>\n",
       "      <td>15</td>\n",
       "      <td>United-States</td>\n",
       "      <td>&lt;=50K</td>\n",
       "    </tr>\n",
       "    <tr>\n",
       "      <th>4</th>\n",
       "      <td>26</td>\n",
       "      <td>Self-emp-not-inc</td>\n",
       "      <td>33016</td>\n",
       "      <td>Assoc-voc</td>\n",
       "      <td>11</td>\n",
       "      <td>Divorced</td>\n",
       "      <td>Other-service</td>\n",
       "      <td>Unmarried</td>\n",
       "      <td>White</td>\n",
       "      <td>Female</td>\n",
       "      <td>0</td>\n",
       "      <td>0</td>\n",
       "      <td>55</td>\n",
       "      <td>United-States</td>\n",
       "      <td>&lt;=50K</td>\n",
       "    </tr>\n",
       "  </tbody>\n",
       "</table>\n",
       "</div>"
      ],
      "text/plain": [
       "   age         workclass  fnlwgt  education  education-num  \\\n",
       "0   73           Unknown  378922    HS-grad              9   \n",
       "1   46           Private  207807       10th              6   \n",
       "2   55  Self-emp-not-inc  319733    HS-grad              9   \n",
       "3   38           Unknown  365465  Assoc-voc             11   \n",
       "4   26  Self-emp-not-inc   33016  Assoc-voc             11   \n",
       "\n",
       "          marital-status         occupation   relationship   race     sex  \\\n",
       "0  Married-spouse-absent            Unknown  Not-in-family  White  Female   \n",
       "1     Married-civ-spouse  Machine-op-inspct           Wife  Black  Female   \n",
       "2     Married-civ-spouse       Craft-repair        Husband  White    Male   \n",
       "3          Never-married            Unknown      Own-child  White    Male   \n",
       "4               Divorced      Other-service      Unmarried  White  Female   \n",
       "\n",
       "   capital-gain  capital-loss  hours-per-week native-country annual-income  \n",
       "0             0             0              20         Canada         <=50K  \n",
       "1             0             0              30  United-States         <=50K  \n",
       "2             0             0              40  United-States         <=50K  \n",
       "3             0             0              15  United-States         <=50K  \n",
       "4             0             0              55  United-States         <=50K  "
      ]
     },
     "execution_count": 1,
     "metadata": {},
     "output_type": "execute_result"
    }
   ],
   "source": [
    "# Import Data\n",
    "\n",
    "import os\n",
    "import pandas as pd\n",
    "\n",
    "census_path = \"/Users/chengminzheng/Downloads/census_dataset.csv\"\n",
    "census_set = \"datasets\"\n",
    "census_column_names=['age','workclass','fnlwgt','education','education-num',\n",
    "                      'marital-status','occupation','relationship','race','sex',\n",
    "                      'capital-gain','capital-loss','hours-per-week','native-country',\n",
    "                      'annual-income']\n",
    "\n",
    "def load_census_data(census_set_path = census_set):\n",
    "    csv_path = os.path.join(census_set_path, census_path)\n",
    "    return pd.read_csv(csv_path, names = census_column_names)\n",
    "\n",
    "census_data = load_census_data()\n",
    "census_data.head()"
   ]
  },
  {
   "cell_type": "code",
   "execution_count": 2,
   "metadata": {},
   "outputs": [
    {
     "name": "stdout",
     "output_type": "stream",
     "text": [
      "Number of feature: 15\n"
     ]
    }
   ],
   "source": [
    "# Determine Features\n",
    "\n",
    "col_count = len(census_data.columns)\n",
    "print(\"Number of feature:\" , col_count)"
   ]
  },
  {
   "cell_type": "code",
   "execution_count": 3,
   "metadata": {},
   "outputs": [
    {
     "data": {
      "text/plain": [
       "<=50K    19915\n",
       ">50K      7567\n",
       "Name: annual-income, dtype: int64"
      ]
     },
     "execution_count": 3,
     "metadata": {},
     "output_type": "execute_result"
    }
   ],
   "source": [
    "# Determine Classes\n",
    "\n",
    "census_data['annual-income'].value_counts()"
   ]
  },
  {
   "cell_type": "code",
   "execution_count": 4,
   "metadata": {},
   "outputs": [
    {
     "data": {
      "text/plain": [
       "<=50K    0.724656\n",
       ">50K     0.275344\n",
       "Name: annual-income, dtype: float64"
      ]
     },
     "execution_count": 4,
     "metadata": {},
     "output_type": "execute_result"
    }
   ],
   "source": [
    "# Determine Class Balance\n",
    "\n",
    "census_data['annual-income'].value_counts() / len(census_data)"
   ]
  },
  {
   "cell_type": "code",
   "execution_count": 5,
   "metadata": {},
   "outputs": [],
   "source": [
    "#Convert String to Integer\n",
    "\n",
    "def pandas_convert_to_ordinal(original_df, cols, inplace = False):\n",
    "    if not inplace:\n",
    "        df = original_df.copy()\n",
    "    else:\n",
    "        df = original_df\n",
    "        \n",
    "    for col in cols:\n",
    "        keys = df[col].drop_duplicates().to_list()\n",
    "        values = list(range(len(keys)))\n",
    "        df[col].replace(keys,values, inplace=True)\n",
    "    \n",
    "    return df\n",
    "\n",
    "census_data = pandas_convert_to_ordinal(census_data,['annual-income'],inplace=True)\n",
    "census_data = pandas_convert_to_ordinal(census_data,['workclass'],inplace=True)\n",
    "census_data = pandas_convert_to_ordinal(census_data,['education'],inplace=True)\n",
    "census_data = pandas_convert_to_ordinal(census_data,['marital-status'],inplace=True)\n",
    "census_data = pandas_convert_to_ordinal(census_data,['occupation'],inplace=True)\n",
    "census_data = pandas_convert_to_ordinal(census_data,['relationship'],inplace=True)\n",
    "census_data = pandas_convert_to_ordinal(census_data,['race'],inplace=True)\n",
    "census_data = pandas_convert_to_ordinal(census_data,['sex'],inplace=True)\n",
    "census_data = pandas_convert_to_ordinal(census_data,['native-country'],inplace=True)"
   ]
  },
  {
   "cell_type": "code",
   "execution_count": 6,
   "metadata": {},
   "outputs": [
    {
     "name": "stdout",
     "output_type": "stream",
     "text": [
      "Split Complete\n"
     ]
    }
   ],
   "source": [
    "# Split Dataset\n",
    "\n",
    "from sklearn.model_selection import StratifiedShuffleSplit\n",
    "from sklearn.utils import validation\n",
    "\n",
    "# import train_test_split\n",
    "\n",
    "split = StratifiedShuffleSplit(n_splits = 1, test_size = 0.2, random_state = 23732975)\n",
    "split1 = StratifiedShuffleSplit(n_splits = 1, test_size = 0.25, random_state = 23732975)\n",
    "\n",
    "for train_valid_index, test_index in split.split(census_data, census_data['annual-income']):\n",
    "    strat_train_valid_set = census_data.iloc[train_valid_index]\n",
    "    strat_test_set = census_data.iloc[test_index]\n",
    "\n",
    "for train_index, validation_index in split1.split(strat_train_valid_set, strat_train_valid_set['annual-income']):\n",
    "    strat_validation_set = strat_train_valid_set.iloc[validation_index]\n",
    "    strat_train_set = strat_train_valid_set.iloc[train_index]\n",
    "\n",
    "print(\"Split Complete\")"
   ]
  },
  {
   "cell_type": "code",
   "execution_count": 7,
   "metadata": {},
   "outputs": [
    {
     "data": {
      "text/plain": [
       "0    0.724644\n",
       "1    0.275356\n",
       "Name: annual-income, dtype: float64"
      ]
     },
     "execution_count": 7,
     "metadata": {},
     "output_type": "execute_result"
    }
   ],
   "source": [
    "# Check Stratification On Training Set\n",
    "\n",
    "strat_train_set['annual-income'].value_counts() / len(strat_train_set)"
   ]
  },
  {
   "cell_type": "code",
   "execution_count": 8,
   "metadata": {},
   "outputs": [
    {
     "data": {
      "text/plain": [
       "0    0.72464\n",
       "1    0.27536\n",
       "Name: annual-income, dtype: float64"
      ]
     },
     "execution_count": 8,
     "metadata": {},
     "output_type": "execute_result"
    }
   ],
   "source": [
    "# Check Stratification On Validation Set\n",
    "\n",
    "strat_validation_set['annual-income'].value_counts() / len(strat_validation_set)"
   ]
  },
  {
   "cell_type": "code",
   "execution_count": 9,
   "metadata": {},
   "outputs": [
    {
     "data": {
      "text/plain": [
       "0    0.724709\n",
       "1    0.275291\n",
       "Name: annual-income, dtype: float64"
      ]
     },
     "execution_count": 9,
     "metadata": {},
     "output_type": "execute_result"
    }
   ],
   "source": [
    "# Check Stratification On Test Set\n",
    "\n",
    "strat_test_set['annual-income'].value_counts() / len(strat_test_set)\n"
   ]
  },
  {
   "cell_type": "markdown",
   "metadata": {},
   "source": [
    "# Part 1"
   ]
  },
  {
   "cell_type": "code",
   "execution_count": 10,
   "metadata": {},
   "outputs": [],
   "source": [
    "# Separate Features and Labels\n",
    "\n",
    "X_train = strat_train_set.drop('annual-income', axis = 1)\n",
    "Y_train = strat_train_set['annual-income']\n",
    "\n",
    "X_validation = strat_validation_set.drop('annual-income', axis = 1)\n",
    "Y_validation = strat_validation_set['annual-income']\n",
    "\n",
    "X_test = strat_test_set.drop('annual-income', axis = 1)\n",
    "Y_test = strat_test_set['annual-income']\n",
    "\n",
    "X_non_test = strat_train_valid_set.drop('annual-income', axis = 1)\n",
    "Y_non_test = strat_train_valid_set['annual-income']"
   ]
  },
  {
   "cell_type": "code",
   "execution_count": 11,
   "metadata": {},
   "outputs": [],
   "source": [
    "# Standarize Data\n",
    "\n",
    "from sklearn.preprocessing import StandardScaler\n",
    "\n",
    "scaler = StandardScaler()\n",
    "X_train_scl = scaler.fit_transform(X_train)\n",
    "X_validation_scl = scaler.fit_transform(X_validation)\n",
    "X_test_scl = scaler.fit_transform(X_test)"
   ]
  },
  {
   "cell_type": "code",
   "execution_count": 12,
   "metadata": {},
   "outputs": [
    {
     "data": {
      "text/html": [
       "<style>#sk-container-id-1 {color: black;background-color: white;}#sk-container-id-1 pre{padding: 0;}#sk-container-id-1 div.sk-toggleable {background-color: white;}#sk-container-id-1 label.sk-toggleable__label {cursor: pointer;display: block;width: 100%;margin-bottom: 0;padding: 0.3em;box-sizing: border-box;text-align: center;}#sk-container-id-1 label.sk-toggleable__label-arrow:before {content: \"▸\";float: left;margin-right: 0.25em;color: #696969;}#sk-container-id-1 label.sk-toggleable__label-arrow:hover:before {color: black;}#sk-container-id-1 div.sk-estimator:hover label.sk-toggleable__label-arrow:before {color: black;}#sk-container-id-1 div.sk-toggleable__content {max-height: 0;max-width: 0;overflow: hidden;text-align: left;background-color: #f0f8ff;}#sk-container-id-1 div.sk-toggleable__content pre {margin: 0.2em;color: black;border-radius: 0.25em;background-color: #f0f8ff;}#sk-container-id-1 input.sk-toggleable__control:checked~div.sk-toggleable__content {max-height: 200px;max-width: 100%;overflow: auto;}#sk-container-id-1 input.sk-toggleable__control:checked~label.sk-toggleable__label-arrow:before {content: \"▾\";}#sk-container-id-1 div.sk-estimator input.sk-toggleable__control:checked~label.sk-toggleable__label {background-color: #d4ebff;}#sk-container-id-1 div.sk-label input.sk-toggleable__control:checked~label.sk-toggleable__label {background-color: #d4ebff;}#sk-container-id-1 input.sk-hidden--visually {border: 0;clip: rect(1px 1px 1px 1px);clip: rect(1px, 1px, 1px, 1px);height: 1px;margin: -1px;overflow: hidden;padding: 0;position: absolute;width: 1px;}#sk-container-id-1 div.sk-estimator {font-family: monospace;background-color: #f0f8ff;border: 1px dotted black;border-radius: 0.25em;box-sizing: border-box;margin-bottom: 0.5em;}#sk-container-id-1 div.sk-estimator:hover {background-color: #d4ebff;}#sk-container-id-1 div.sk-parallel-item::after {content: \"\";width: 100%;border-bottom: 1px solid gray;flex-grow: 1;}#sk-container-id-1 div.sk-label:hover label.sk-toggleable__label {background-color: #d4ebff;}#sk-container-id-1 div.sk-serial::before {content: \"\";position: absolute;border-left: 1px solid gray;box-sizing: border-box;top: 0;bottom: 0;left: 50%;z-index: 0;}#sk-container-id-1 div.sk-serial {display: flex;flex-direction: column;align-items: center;background-color: white;padding-right: 0.2em;padding-left: 0.2em;position: relative;}#sk-container-id-1 div.sk-item {position: relative;z-index: 1;}#sk-container-id-1 div.sk-parallel {display: flex;align-items: stretch;justify-content: center;background-color: white;position: relative;}#sk-container-id-1 div.sk-item::before, #sk-container-id-1 div.sk-parallel-item::before {content: \"\";position: absolute;border-left: 1px solid gray;box-sizing: border-box;top: 0;bottom: 0;left: 50%;z-index: -1;}#sk-container-id-1 div.sk-parallel-item {display: flex;flex-direction: column;z-index: 1;position: relative;background-color: white;}#sk-container-id-1 div.sk-parallel-item:first-child::after {align-self: flex-end;width: 50%;}#sk-container-id-1 div.sk-parallel-item:last-child::after {align-self: flex-start;width: 50%;}#sk-container-id-1 div.sk-parallel-item:only-child::after {width: 0;}#sk-container-id-1 div.sk-dashed-wrapped {border: 1px dashed gray;margin: 0 0.4em 0.5em 0.4em;box-sizing: border-box;padding-bottom: 0.4em;background-color: white;}#sk-container-id-1 div.sk-label label {font-family: monospace;font-weight: bold;display: inline-block;line-height: 1.2em;}#sk-container-id-1 div.sk-label-container {text-align: center;}#sk-container-id-1 div.sk-container {/* jupyter's `normalize.less` sets `[hidden] { display: none; }` but bootstrap.min.css set `[hidden] { display: none !important; }` so we also need the `!important` here to be able to override the default hidden behavior on the sphinx rendered scikit-learn.org. See: https://github.com/scikit-learn/scikit-learn/issues/21755 */display: inline-block !important;position: relative;}#sk-container-id-1 div.sk-text-repr-fallback {display: none;}</style><div id=\"sk-container-id-1\" class=\"sk-top-container\"><div class=\"sk-text-repr-fallback\"><pre>GaussianNB()</pre><b>In a Jupyter environment, please rerun this cell to show the HTML representation or trust the notebook. <br />On GitHub, the HTML representation is unable to render, please try loading this page with nbviewer.org.</b></div><div class=\"sk-container\" hidden><div class=\"sk-item\"><div class=\"sk-estimator sk-toggleable\"><input class=\"sk-toggleable__control sk-hidden--visually\" id=\"sk-estimator-id-1\" type=\"checkbox\" checked><label for=\"sk-estimator-id-1\" class=\"sk-toggleable__label sk-toggleable__label-arrow\">GaussianNB</label><div class=\"sk-toggleable__content\"><pre>GaussianNB()</pre></div></div></div></div></div>"
      ],
      "text/plain": [
       "GaussianNB()"
      ]
     },
     "execution_count": 12,
     "metadata": {},
     "output_type": "execute_result"
    }
   ],
   "source": [
    "# Train Naive Bayes Model\n",
    "\n",
    "from sklearn.naive_bayes import GaussianNB\n",
    "\n",
    "gnb = GaussianNB()\n",
    "gnb.fit(X_train,Y_train)"
   ]
  },
  {
   "cell_type": "code",
   "execution_count": 13,
   "metadata": {},
   "outputs": [
    {
     "data": {
      "text/html": [
       "<style>#sk-container-id-2 {color: black;background-color: white;}#sk-container-id-2 pre{padding: 0;}#sk-container-id-2 div.sk-toggleable {background-color: white;}#sk-container-id-2 label.sk-toggleable__label {cursor: pointer;display: block;width: 100%;margin-bottom: 0;padding: 0.3em;box-sizing: border-box;text-align: center;}#sk-container-id-2 label.sk-toggleable__label-arrow:before {content: \"▸\";float: left;margin-right: 0.25em;color: #696969;}#sk-container-id-2 label.sk-toggleable__label-arrow:hover:before {color: black;}#sk-container-id-2 div.sk-estimator:hover label.sk-toggleable__label-arrow:before {color: black;}#sk-container-id-2 div.sk-toggleable__content {max-height: 0;max-width: 0;overflow: hidden;text-align: left;background-color: #f0f8ff;}#sk-container-id-2 div.sk-toggleable__content pre {margin: 0.2em;color: black;border-radius: 0.25em;background-color: #f0f8ff;}#sk-container-id-2 input.sk-toggleable__control:checked~div.sk-toggleable__content {max-height: 200px;max-width: 100%;overflow: auto;}#sk-container-id-2 input.sk-toggleable__control:checked~label.sk-toggleable__label-arrow:before {content: \"▾\";}#sk-container-id-2 div.sk-estimator input.sk-toggleable__control:checked~label.sk-toggleable__label {background-color: #d4ebff;}#sk-container-id-2 div.sk-label input.sk-toggleable__control:checked~label.sk-toggleable__label {background-color: #d4ebff;}#sk-container-id-2 input.sk-hidden--visually {border: 0;clip: rect(1px 1px 1px 1px);clip: rect(1px, 1px, 1px, 1px);height: 1px;margin: -1px;overflow: hidden;padding: 0;position: absolute;width: 1px;}#sk-container-id-2 div.sk-estimator {font-family: monospace;background-color: #f0f8ff;border: 1px dotted black;border-radius: 0.25em;box-sizing: border-box;margin-bottom: 0.5em;}#sk-container-id-2 div.sk-estimator:hover {background-color: #d4ebff;}#sk-container-id-2 div.sk-parallel-item::after {content: \"\";width: 100%;border-bottom: 1px solid gray;flex-grow: 1;}#sk-container-id-2 div.sk-label:hover label.sk-toggleable__label {background-color: #d4ebff;}#sk-container-id-2 div.sk-serial::before {content: \"\";position: absolute;border-left: 1px solid gray;box-sizing: border-box;top: 0;bottom: 0;left: 50%;z-index: 0;}#sk-container-id-2 div.sk-serial {display: flex;flex-direction: column;align-items: center;background-color: white;padding-right: 0.2em;padding-left: 0.2em;position: relative;}#sk-container-id-2 div.sk-item {position: relative;z-index: 1;}#sk-container-id-2 div.sk-parallel {display: flex;align-items: stretch;justify-content: center;background-color: white;position: relative;}#sk-container-id-2 div.sk-item::before, #sk-container-id-2 div.sk-parallel-item::before {content: \"\";position: absolute;border-left: 1px solid gray;box-sizing: border-box;top: 0;bottom: 0;left: 50%;z-index: -1;}#sk-container-id-2 div.sk-parallel-item {display: flex;flex-direction: column;z-index: 1;position: relative;background-color: white;}#sk-container-id-2 div.sk-parallel-item:first-child::after {align-self: flex-end;width: 50%;}#sk-container-id-2 div.sk-parallel-item:last-child::after {align-self: flex-start;width: 50%;}#sk-container-id-2 div.sk-parallel-item:only-child::after {width: 0;}#sk-container-id-2 div.sk-dashed-wrapped {border: 1px dashed gray;margin: 0 0.4em 0.5em 0.4em;box-sizing: border-box;padding-bottom: 0.4em;background-color: white;}#sk-container-id-2 div.sk-label label {font-family: monospace;font-weight: bold;display: inline-block;line-height: 1.2em;}#sk-container-id-2 div.sk-label-container {text-align: center;}#sk-container-id-2 div.sk-container {/* jupyter's `normalize.less` sets `[hidden] { display: none; }` but bootstrap.min.css set `[hidden] { display: none !important; }` so we also need the `!important` here to be able to override the default hidden behavior on the sphinx rendered scikit-learn.org. See: https://github.com/scikit-learn/scikit-learn/issues/21755 */display: inline-block !important;position: relative;}#sk-container-id-2 div.sk-text-repr-fallback {display: none;}</style><div id=\"sk-container-id-2\" class=\"sk-top-container\"><div class=\"sk-text-repr-fallback\"><pre>SVC()</pre><b>In a Jupyter environment, please rerun this cell to show the HTML representation or trust the notebook. <br />On GitHub, the HTML representation is unable to render, please try loading this page with nbviewer.org.</b></div><div class=\"sk-container\" hidden><div class=\"sk-item\"><div class=\"sk-estimator sk-toggleable\"><input class=\"sk-toggleable__control sk-hidden--visually\" id=\"sk-estimator-id-2\" type=\"checkbox\" checked><label for=\"sk-estimator-id-2\" class=\"sk-toggleable__label sk-toggleable__label-arrow\">SVC</label><div class=\"sk-toggleable__content\"><pre>SVC()</pre></div></div></div></div></div>"
      ],
      "text/plain": [
       "SVC()"
      ]
     },
     "execution_count": 13,
     "metadata": {},
     "output_type": "execute_result"
    }
   ],
   "source": [
    "# Train Support Vector Machine\n",
    "\n",
    "from sklearn.svm import SVC\n",
    "cls = SVC()\n",
    "cls.fit(X_train,Y_train)"
   ]
  },
  {
   "cell_type": "code",
   "execution_count": 14,
   "metadata": {},
   "outputs": [
    {
     "data": {
      "text/html": [
       "<style>#sk-container-id-3 {color: black;background-color: white;}#sk-container-id-3 pre{padding: 0;}#sk-container-id-3 div.sk-toggleable {background-color: white;}#sk-container-id-3 label.sk-toggleable__label {cursor: pointer;display: block;width: 100%;margin-bottom: 0;padding: 0.3em;box-sizing: border-box;text-align: center;}#sk-container-id-3 label.sk-toggleable__label-arrow:before {content: \"▸\";float: left;margin-right: 0.25em;color: #696969;}#sk-container-id-3 label.sk-toggleable__label-arrow:hover:before {color: black;}#sk-container-id-3 div.sk-estimator:hover label.sk-toggleable__label-arrow:before {color: black;}#sk-container-id-3 div.sk-toggleable__content {max-height: 0;max-width: 0;overflow: hidden;text-align: left;background-color: #f0f8ff;}#sk-container-id-3 div.sk-toggleable__content pre {margin: 0.2em;color: black;border-radius: 0.25em;background-color: #f0f8ff;}#sk-container-id-3 input.sk-toggleable__control:checked~div.sk-toggleable__content {max-height: 200px;max-width: 100%;overflow: auto;}#sk-container-id-3 input.sk-toggleable__control:checked~label.sk-toggleable__label-arrow:before {content: \"▾\";}#sk-container-id-3 div.sk-estimator input.sk-toggleable__control:checked~label.sk-toggleable__label {background-color: #d4ebff;}#sk-container-id-3 div.sk-label input.sk-toggleable__control:checked~label.sk-toggleable__label {background-color: #d4ebff;}#sk-container-id-3 input.sk-hidden--visually {border: 0;clip: rect(1px 1px 1px 1px);clip: rect(1px, 1px, 1px, 1px);height: 1px;margin: -1px;overflow: hidden;padding: 0;position: absolute;width: 1px;}#sk-container-id-3 div.sk-estimator {font-family: monospace;background-color: #f0f8ff;border: 1px dotted black;border-radius: 0.25em;box-sizing: border-box;margin-bottom: 0.5em;}#sk-container-id-3 div.sk-estimator:hover {background-color: #d4ebff;}#sk-container-id-3 div.sk-parallel-item::after {content: \"\";width: 100%;border-bottom: 1px solid gray;flex-grow: 1;}#sk-container-id-3 div.sk-label:hover label.sk-toggleable__label {background-color: #d4ebff;}#sk-container-id-3 div.sk-serial::before {content: \"\";position: absolute;border-left: 1px solid gray;box-sizing: border-box;top: 0;bottom: 0;left: 50%;z-index: 0;}#sk-container-id-3 div.sk-serial {display: flex;flex-direction: column;align-items: center;background-color: white;padding-right: 0.2em;padding-left: 0.2em;position: relative;}#sk-container-id-3 div.sk-item {position: relative;z-index: 1;}#sk-container-id-3 div.sk-parallel {display: flex;align-items: stretch;justify-content: center;background-color: white;position: relative;}#sk-container-id-3 div.sk-item::before, #sk-container-id-3 div.sk-parallel-item::before {content: \"\";position: absolute;border-left: 1px solid gray;box-sizing: border-box;top: 0;bottom: 0;left: 50%;z-index: -1;}#sk-container-id-3 div.sk-parallel-item {display: flex;flex-direction: column;z-index: 1;position: relative;background-color: white;}#sk-container-id-3 div.sk-parallel-item:first-child::after {align-self: flex-end;width: 50%;}#sk-container-id-3 div.sk-parallel-item:last-child::after {align-self: flex-start;width: 50%;}#sk-container-id-3 div.sk-parallel-item:only-child::after {width: 0;}#sk-container-id-3 div.sk-dashed-wrapped {border: 1px dashed gray;margin: 0 0.4em 0.5em 0.4em;box-sizing: border-box;padding-bottom: 0.4em;background-color: white;}#sk-container-id-3 div.sk-label label {font-family: monospace;font-weight: bold;display: inline-block;line-height: 1.2em;}#sk-container-id-3 div.sk-label-container {text-align: center;}#sk-container-id-3 div.sk-container {/* jupyter's `normalize.less` sets `[hidden] { display: none; }` but bootstrap.min.css set `[hidden] { display: none !important; }` so we also need the `!important` here to be able to override the default hidden behavior on the sphinx rendered scikit-learn.org. See: https://github.com/scikit-learn/scikit-learn/issues/21755 */display: inline-block !important;position: relative;}#sk-container-id-3 div.sk-text-repr-fallback {display: none;}</style><div id=\"sk-container-id-3\" class=\"sk-top-container\"><div class=\"sk-text-repr-fallback\"><pre>RandomForestClassifier(random_state=23732975)</pre><b>In a Jupyter environment, please rerun this cell to show the HTML representation or trust the notebook. <br />On GitHub, the HTML representation is unable to render, please try loading this page with nbviewer.org.</b></div><div class=\"sk-container\" hidden><div class=\"sk-item\"><div class=\"sk-estimator sk-toggleable\"><input class=\"sk-toggleable__control sk-hidden--visually\" id=\"sk-estimator-id-3\" type=\"checkbox\" checked><label for=\"sk-estimator-id-3\" class=\"sk-toggleable__label sk-toggleable__label-arrow\">RandomForestClassifier</label><div class=\"sk-toggleable__content\"><pre>RandomForestClassifier(random_state=23732975)</pre></div></div></div></div></div>"
      ],
      "text/plain": [
       "RandomForestClassifier(random_state=23732975)"
      ]
     },
     "execution_count": 14,
     "metadata": {},
     "output_type": "execute_result"
    }
   ],
   "source": [
    "# Train Random Forest\n",
    "\n",
    "from sklearn.ensemble import RandomForestClassifier\n",
    "\n",
    "clf = RandomForestClassifier(random_state = 23732975)\n",
    "clf.fit(X_train, Y_train)\n"
   ]
  },
  {
   "cell_type": "code",
   "execution_count": 15,
   "metadata": {},
   "outputs": [
    {
     "name": "stdout",
     "output_type": "stream",
     "text": [
      "Accuracy of NB: 0.7688259372360471\n",
      "Accuracy of SVM: 0.7629133909427588\n",
      "Accuracy of RF: 1.0\n"
     ]
    }
   ],
   "source": [
    "# Check Training Fit Overall\n",
    "\n",
    "from sklearn.metrics import accuracy_score\n",
    "\n",
    "Y_pred_train = gnb.predict(X_train)\n",
    "print(\"Accuracy of NB:\", accuracy_score(Y_train,Y_pred_train))\n",
    "Y_pred_train = cls.predict(X_train)\n",
    "print(\"Accuracy of SVM:\", accuracy_score(Y_train,Y_pred_train))\n",
    "Y_pred_train = clf.predict(X_train)\n",
    "print(\"Accuracy of RF:\", accuracy_score(Y_train,Y_pred_train))\n"
   ]
  },
  {
   "cell_type": "code",
   "execution_count": 16,
   "id": "d3d9122f",
   "metadata": {},
   "outputs": [],
   "source": [
    "# peformance metric functions\n",
    "\n",
    "from sklearn.metrics import confusion_matrix, roc_auc_score, f1_score\n",
    "import numpy as np\n",
    "import matplotlib.pyplot as plt\n",
    "\n",
    "#A list of keys for the dictionary returned by p1_metrics\n",
    "\n",
    "metric_keys = ['auc', 'f1', 'accuracy', 'sensitivity', 'specificity', 'precision']\n",
    "\n",
    "def p1_metrics(y_true, y_pred, include_cm = True):\n",
    "    cm = confusion_matrix(y_true, y_pred)\n",
    "    tn, fp, fn, tp = cm.ravel()\n",
    "    \n",
    "    if include_cm:\n",
    "        return {\n",
    "            'auc': roc_auc_score(y_true, y_pred),\n",
    "            'f1': f1_score(y_true, y_pred),\n",
    "            'accuracy': (tp + tn) / np.sum(cm),\n",
    "            'sensitivity': tp / (tp + fn),\n",
    "            'specificity': tn / (tn + fp),\n",
    "            'precision': tp / (tp + fp),\n",
    "            'confusion_matrix': cm}\n",
    "    else:\n",
    "        return {\n",
    "            'auc': roc_auc_score(y_true, y_pred),\n",
    "            'f1': f1_score(y_true, y_pred),\n",
    "            'accuracy': (tp + tn) / np.sum(cm),\n",
    "            'sensitivity': tp / (tp + fn),\n",
    "            'specificity': tn / (tn + fp),\n",
    "            'precision': tp / (tp + fp)}\n",
    "\n",
    "#This wrapper can be used to return multiple performance metrics during cross-validation\n",
    "\n",
    "def p1_metrics_scorer(clf, X, y_true):\n",
    "    y_pred = clf.predict(X)\n",
    "    return p1_metrics(y_true, y_pred, include_cm = False)\n"
   ]
  },
  {
   "cell_type": "code",
   "execution_count": 17,
   "metadata": {},
   "outputs": [
    {
     "name": "stdout",
     "output_type": "stream",
     "text": [
      "NB accuracy:  0.764919941775837\n"
     ]
    },
    {
     "data": {
      "text/plain": [
       "{'auc': 0.6189393156208002,\n",
       " 'f1': 0.4078826764436297,\n",
       " 'accuracy': 0.764919941775837,\n",
       " 'sensitivity': 0.29411764705882354,\n",
       " 'specificity': 0.9437609841827768,\n",
       " 'precision': 0.6651718983557549,\n",
       " 'confusion_matrix': array([[3759,  224],\n",
       "        [1068,  445]])}"
      ]
     },
     "execution_count": 17,
     "metadata": {},
     "output_type": "execute_result"
    }
   ],
   "source": [
    "# Compute on test set on NB\n",
    "\n",
    "Y_pred_test = gnb.predict(X_test)\n",
    "print(('NB accuracy: '), accuracy_score(Y_test,Y_pred_test))\n",
    "p1_metrics(Y_test, Y_pred_test)"
   ]
  },
  {
   "cell_type": "code",
   "execution_count": 18,
   "metadata": {},
   "outputs": [
    {
     "data": {
      "image/png": "[encoded data removed]",
      "text/plain": [
       "<Figure size 640x480 with 2 Axes>"
      ]
     },
     "metadata": {},
     "output_type": "display_data"
    }
   ],
   "source": [
    "# Compute and display confusion matrix\n",
    "\n",
    "from sklearn.metrics import confusion_matrix, ConfusionMatrixDisplay\n",
    "\n",
    "#NB matrix display\n",
    "gnb_cm = confusion_matrix(Y_test, Y_pred_test)\n",
    "disp = ConfusionMatrixDisplay(confusion_matrix=gnb_cm,\n",
    "                            display_labels=gnb.classes_)\n",
    "disp.plot()\n",
    "plt.show()\n"
   ]
  },
  {
   "cell_type": "code",
   "execution_count": 19,
   "metadata": {},
   "outputs": [
    {
     "name": "stdout",
     "output_type": "stream",
     "text": [
      "SVM accuracy:  0.7652838427947598\n"
     ]
    },
    {
     "data": {
      "text/plain": [
       "{'auc': 0.573899582146794,\n",
       " 'f1': 0.2577675489067895,\n",
       " 'accuracy': 0.7652838427947598,\n",
       " 'sensitivity': 0.14805023132848646,\n",
       " 'specificity': 0.9997489329651017,\n",
       " 'precision': 0.9955555555555555,\n",
       " 'confusion_matrix': array([[3982,    1],\n",
       "        [1289,  224]])}"
      ]
     },
     "execution_count": 19,
     "metadata": {},
     "output_type": "execute_result"
    }
   ],
   "source": [
    "# Compute test set on SVM\n",
    "Y_pred_test = cls.predict(X_test)\n",
    "print(('SVM accuracy: '), accuracy_score(Y_test,Y_pred_test))\n",
    "p1_metrics(Y_test, Y_pred_test)"
   ]
  },
  {
   "cell_type": "code",
   "execution_count": 20,
   "metadata": {},
   "outputs": [
    {
     "data": {
      "image/png": "[encoded data removed]",
      "text/plain": [
       "<Figure size 640x480 with 2 Axes>"
      ]
     },
     "metadata": {},
     "output_type": "display_data"
    }
   ],
   "source": [
    "# SVM matrix display\n",
    "cls_cm = confusion_matrix(Y_test, Y_pred_test)\n",
    "disp = ConfusionMatrixDisplay(confusion_matrix = cls_cm,\n",
    "                            display_labels = cls.classes_)\n",
    "disp.plot()\n",
    "plt.show()"
   ]
  },
  {
   "cell_type": "code",
   "execution_count": 21,
   "metadata": {},
   "outputs": [
    {
     "name": "stdout",
     "output_type": "stream",
     "text": [
      "RF accuracy:  0.8560771470160117\n"
     ]
    },
    {
     "data": {
      "text/plain": [
       "{'auc': 0.800079534983362,\n",
       " 'f1': 0.7209876543209878,\n",
       " 'accuracy': 0.8560771470160117,\n",
       " 'sensitivity': 0.6754791804362195,\n",
       " 'specificity': 0.9246798895305046,\n",
       " 'precision': 0.773071104387292,\n",
       " 'confusion_matrix': array([[3683,  300],\n",
       "        [ 491, 1022]])}"
      ]
     },
     "execution_count": 21,
     "metadata": {},
     "output_type": "execute_result"
    }
   ],
   "source": [
    "# Compute test set on RF\n",
    "Y_pred_test = clf.predict(X_test)\n",
    "print(('RF accuracy: '), accuracy_score(Y_test,Y_pred_test))\n",
    "p1_metrics(Y_test, Y_pred_test)"
   ]
  },
  {
   "cell_type": "code",
   "execution_count": 22,
   "metadata": {},
   "outputs": [
    {
     "data": {
      "image/png": "[encoded data removed]",
      "text/plain": [
       "<Figure size 640x480 with 2 Axes>"
      ]
     },
     "metadata": {},
     "output_type": "display_data"
    }
   ],
   "source": [
    "# RF Matrix Display\n",
    "clf_cm = confusion_matrix(Y_test, Y_pred_test)\n",
    "disp = ConfusionMatrixDisplay(confusion_matrix = clf_cm,\n",
    "                        display_labels = clf.classes_)\n",
    "disp.plot()\n",
    "plt.show()"
   ]
  },
  {
   "cell_type": "code",
   "execution_count": 23,
   "metadata": {},
   "outputs": [
    {
     "name": "stdout",
     "output_type": "stream",
     "text": [
      "Accuracy of NB: 0.7690674753601213\n"
     ]
    },
    {
     "data": {
      "text/plain": [
       "{'auc': 0.6238604236781146,\n",
       " 'f1': 0.41759082217973226,\n",
       " 'accuracy': 0.7690674753601213,\n",
       " 'sensitivity': 0.30066079295154186,\n",
       " 'specificity': 0.9470600544046872,\n",
       " 'precision': 0.6833541927409261,\n",
       " 'confusion_matrix': array([[4526,  253],\n",
       "        [1270,  546]])}"
      ]
     },
     "execution_count": 23,
     "metadata": {},
     "output_type": "execute_result"
    }
   ],
   "source": [
    "#Check Validation set on NB\n",
    "\n",
    "Y_pred_validation = gnb.predict(X_validation)\n",
    "print(\"Accuracy of NB:\", accuracy_score(Y_validation,Y_pred_validation))\n",
    "p1_metrics(Y_validation, Y_pred_validation)"
   ]
  },
  {
   "cell_type": "code",
   "execution_count": 24,
   "metadata": {},
   "outputs": [
    {
     "data": {
      "image/png": "[encoded data removed]",
      "text/plain": [
       "<Figure size 640x480 with 2 Axes>"
      ]
     },
     "metadata": {},
     "output_type": "display_data"
    }
   ],
   "source": [
    "# Compute and display confusion matrix\n",
    "\n",
    "#NB\n",
    "gnb_cm = confusion_matrix(Y_test, Y_pred_test)\n",
    "disp = ConfusionMatrixDisplay(confusion_matrix=gnb_cm,\n",
    "                            display_labels=gnb.classes_)\n",
    "disp.plot()\n",
    "plt.show()\n"
   ]
  },
  {
   "cell_type": "code",
   "execution_count": 25,
   "metadata": {},
   "outputs": [
    {
     "name": "stdout",
     "output_type": "stream",
     "text": [
      "Accuracy of SVM: 0.7626990144048522\n"
     ]
    },
    {
     "data": {
      "text/plain": [
       "{'auc': 0.5694493415115507,\n",
       " 'f1': 0.24432641236117816,\n",
       " 'accuracy': 0.7626990144048522,\n",
       " 'sensitivity': 0.1393171806167401,\n",
       " 'specificity': 0.9995815024063611,\n",
       " 'precision': 0.9921568627450981,\n",
       " 'confusion_matrix': array([[4777,    2],\n",
       "        [1563,  253]])}"
      ]
     },
     "execution_count": 25,
     "metadata": {},
     "output_type": "execute_result"
    }
   ],
   "source": [
    "# Compute SVM on Validation set\n",
    "Y_pred_validation = cls.predict(X_validation)\n",
    "print(\"Accuracy of SVM:\", accuracy_score(Y_validation,Y_pred_validation))\n",
    "p1_metrics(Y_validation, Y_pred_validation)"
   ]
  },
  {
   "cell_type": "code",
   "execution_count": 26,
   "metadata": {},
   "outputs": [
    {
     "data": {
      "image/png": "[encoded data removed]",
      "text/plain": [
       "<Figure size 640x480 with 2 Axes>"
      ]
     },
     "metadata": {},
     "output_type": "display_data"
    }
   ],
   "source": [
    "# SVM Matrix display on Validation\n",
    "cls_cm = confusion_matrix(Y_test, Y_pred_test)\n",
    "disp = ConfusionMatrixDisplay(confusion_matrix = cls_cm,\n",
    "                            display_labels = cls.classes_)\n",
    "disp.plot()\n",
    "plt.show()"
   ]
  },
  {
   "cell_type": "code",
   "execution_count": 27,
   "metadata": {},
   "outputs": [
    {
     "name": "stdout",
     "output_type": "stream",
     "text": [
      "Accuracy of RF: 0.8463987869598181\n"
     ]
    },
    {
     "data": {
      "text/plain": [
       "{'auc': 0.78715352962161,\n",
       " 'f1': 0.7014441497200118,\n",
       " 'accuracy': 0.8463987869598181,\n",
       " 'sensitivity': 0.6552863436123348,\n",
       " 'specificity': 0.9190207156308852,\n",
       " 'precision': 0.7545973367152822,\n",
       " 'confusion_matrix': array([[4392,  387],\n",
       "        [ 626, 1190]])}"
      ]
     },
     "execution_count": 27,
     "metadata": {},
     "output_type": "execute_result"
    }
   ],
   "source": [
    "# Compute RF on Validation Set\n",
    "Y_pred_validation = clf.predict(X_validation)\n",
    "print(\"Accuracy of RF:\", accuracy_score(Y_validation,Y_pred_validation))\n",
    "p1_metrics(Y_validation, Y_pred_validation)"
   ]
  },
  {
   "cell_type": "code",
   "execution_count": 28,
   "metadata": {},
   "outputs": [
    {
     "data": {
      "image/png": "[encoded data removed]",
      "text/plain": [
       "<Figure size 640x480 with 2 Axes>"
      ]
     },
     "metadata": {},
     "output_type": "display_data"
    }
   ],
   "source": [
    "# RF Matrix display on Validation Set\n",
    "clf_cm = confusion_matrix(Y_test, Y_pred_test)\n",
    "disp = ConfusionMatrixDisplay(confusion_matrix = clf_cm,\n",
    "                        display_labels = clf.classes_)\n",
    "disp.plot()\n",
    "plt.show()"
   ]
  },
  {
   "cell_type": "markdown",
   "metadata": {},
   "source": [
    "None of the models is underfitting the data, because all models' training accuracy is lower than the validation."
   ]
  },
  {
   "cell_type": "markdown",
   "metadata": {},
   "source": [
    "1.3: in all three models, validation has slightly higher value than training set. But difference is less than 1%\n"
   ]
  },
  {
   "cell_type": "markdown",
   "metadata": {},
   "source": [
    "# Part 2"
   ]
  },
  {
   "cell_type": "code",
   "execution_count": 29,
   "metadata": {},
   "outputs": [],
   "source": [
    "#Summarizes model performance results produced during cross-validation\n",
    "\n",
    "def collate_cv_results(cv_results, display = True):\n",
    "    cv_stats = dict()\n",
    "    for k in cv_results:\n",
    "        cv_stats[k + \"_mean\"] = np.mean(cv_results[k])\n",
    "        cv_stats[k + \"_std\"] = np.std(cv_results[k])\n",
    "        if display:\n",
    "            print(k, cv_stats[k + \"_mean\"], \"(\" + str(cv_stats[k + \"_std\"]) + \")\")\n",
    "    return cv_stats"
   ]
  },
  {
   "cell_type": "code",
   "execution_count": 30,
   "metadata": {},
   "outputs": [
    {
     "name": "stdout",
     "output_type": "stream",
     "text": [
      "5 Fold Cross Validation For NB:\n",
      "auc 0.6264466256157541 (0.00794632133224199)\n",
      "f1 0.42387114025687167 (0.016402993329884208)\n",
      "accuracy 0.7694898739818365 (0.005420354659497654)\n",
      "sensitivity 0.3080653240611202 (0.013838557807225321)\n",
      "specificity 0.9448279271703883 (0.002577551250565085)\n",
      "precision 0.6794088534877638 (0.018232315318810005)\n"
     ]
    },
    {
     "data": {
      "text/plain": [
       "{'auc_mean': 0.6264466256157541,\n",
       " 'auc_std': 0.00794632133224199,\n",
       " 'f1_mean': 0.42387114025687167,\n",
       " 'f1_std': 0.016402993329884208,\n",
       " 'accuracy_mean': 0.7694898739818365,\n",
       " 'accuracy_std': 0.005420354659497654,\n",
       " 'sensitivity_mean': 0.3080653240611202,\n",
       " 'sensitivity_std': 0.013838557807225321,\n",
       " 'specificity_mean': 0.9448279271703883,\n",
       " 'specificity_std': 0.002577551250565085,\n",
       " 'precision_mean': 0.6794088534877638,\n",
       " 'precision_std': 0.018232315318810005}"
      ]
     },
     "execution_count": 30,
     "metadata": {},
     "output_type": "execute_result"
    }
   ],
   "source": [
    "# 5 Fold Cross Validation With NB\n",
    "\n",
    "from sklearn.model_selection import StratifiedKFold\n",
    "\n",
    "print('5 Fold Cross Validation For NB:')\n",
    "\n",
    "gnb_part2 = GaussianNB()\n",
    "skf = StratifiedKFold(n_splits = 5, shuffle = True, random_state = 23732975)\n",
    "\n",
    "gnb_lst_accu_stratified = []\n",
    "\n",
    "for train_index, test_index in skf.split(X_non_test, Y_non_test):\n",
    "    x_train_fold, x_test_fold = X_non_test.iloc[train_index], X_non_test.iloc[test_index]\n",
    "    y_train_fold, y_test_fold = Y_non_test.iloc[train_index], Y_non_test.iloc[test_index]    \n",
    "    gnb_part2.fit(x_train_fold, y_train_fold)\n",
    "    gnb_lst_accu_stratified.append(p1_metrics_scorer(gnb_part2, x_test_fold, y_test_fold))\n",
    "\n",
    "gnb_lst_accu_stratified = pd.json_normalize(gnb_lst_accu_stratified)\n",
    "collate_cv_results(gnb_lst_accu_stratified)"
   ]
  },
  {
   "cell_type": "code",
   "execution_count": 31,
   "metadata": {},
   "outputs": [
    {
     "name": "stdout",
     "output_type": "stream",
     "text": [
      "5 Fold Cross Validation For SVM:\n",
      "auc 0.5728937900402086 (0.005799342741237636)\n",
      "f1 0.2548317270125698 (0.01750460879447449)\n",
      "accuracy 0.7645321342851998 (0.003282831353768238)\n",
      "sensitivity 0.1463525124376412 (0.011537030264203621)\n",
      "specificity 0.9994350676427757 (0.00041639391664431534)\n",
      "precision 0.9898819603715406 (0.006961807532207706)\n"
     ]
    },
    {
     "data": {
      "text/plain": [
       "{'auc_mean': 0.5728937900402086,\n",
       " 'auc_std': 0.005799342741237636,\n",
       " 'f1_mean': 0.2548317270125698,\n",
       " 'f1_std': 0.01750460879447449,\n",
       " 'accuracy_mean': 0.7645321342851998,\n",
       " 'accuracy_std': 0.003282831353768238,\n",
       " 'sensitivity_mean': 0.1463525124376412,\n",
       " 'sensitivity_std': 0.011537030264203621,\n",
       " 'specificity_mean': 0.9994350676427757,\n",
       " 'specificity_std': 0.00041639391664431534,\n",
       " 'precision_mean': 0.9898819603715406,\n",
       " 'precision_std': 0.006961807532207706}"
      ]
     },
     "execution_count": 31,
     "metadata": {},
     "output_type": "execute_result"
    }
   ],
   "source": [
    "# 5 Fold Cross Validation With SVM\n",
    "\n",
    "print('5 Fold Cross Validation For SVM:')\n",
    "\n",
    "cls_part2 = SVC()\n",
    "cls_lst_accu_stratified = []\n",
    "\n",
    "for train_index, test_index in skf.split(X_non_test, Y_non_test):\n",
    "    x_train_fold, x_test_fold = X_non_test.iloc[train_index], X_non_test.iloc[test_index]\n",
    "    y_train_fold, y_test_fold = Y_non_test.iloc[train_index], Y_non_test.iloc[test_index]    \n",
    "    cls_part2.fit(x_train_fold, y_train_fold)\n",
    "    cls_lst_accu_stratified.append(p1_metrics_scorer(cls_part2, x_test_fold, y_test_fold))\n",
    "\n",
    "cls_lst_accu_stratified = pd.json_normalize(cls_lst_accu_stratified)\n",
    "collate_cv_results(cls_lst_accu_stratified)"
   ]
  },
  {
   "cell_type": "code",
   "execution_count": 32,
   "metadata": {},
   "outputs": [
    {
     "name": "stdout",
     "output_type": "stream",
     "text": [
      "5 Fold Cross Validation For RF:\n",
      "auc 0.8019198309032444 (0.005642567306074518)\n",
      "f1 0.7224726928959038 (0.008922157652730089)\n",
      "accuracy 0.8556356637804331 (0.004931832966883025)\n",
      "sensitivity 0.6823607291289897 (0.007589357040724054)\n",
      "specificity 0.9214789326774989 (0.004279314257609779)\n",
      "precision 0.7676211084775755 (0.011380730464125502)\n"
     ]
    },
    {
     "data": {
      "text/plain": [
       "{'auc_mean': 0.8019198309032444,\n",
       " 'auc_std': 0.005642567306074518,\n",
       " 'f1_mean': 0.7224726928959038,\n",
       " 'f1_std': 0.008922157652730089,\n",
       " 'accuracy_mean': 0.8556356637804331,\n",
       " 'accuracy_std': 0.004931832966883025,\n",
       " 'sensitivity_mean': 0.6823607291289897,\n",
       " 'sensitivity_std': 0.007589357040724054,\n",
       " 'specificity_mean': 0.9214789326774989,\n",
       " 'specificity_std': 0.004279314257609779,\n",
       " 'precision_mean': 0.7676211084775755,\n",
       " 'precision_std': 0.011380730464125502}"
      ]
     },
     "execution_count": 32,
     "metadata": {},
     "output_type": "execute_result"
    }
   ],
   "source": [
    "# 5 Fold Cross Validation With RF\n",
    "\n",
    "print('5 Fold Cross Validation For RF:')\n",
    "\n",
    "clf_part2 = RandomForestClassifier(random_state = 23732975)\n",
    "clf_lst_accu_stratified = []\n",
    "\n",
    "for train_index, test_index in skf.split(X_non_test, Y_non_test):\n",
    "    x_train_fold, x_test_fold = X_non_test.iloc[train_index], X_non_test.iloc[test_index]\n",
    "    y_train_fold, y_test_fold = Y_non_test.iloc[train_index], Y_non_test.iloc[test_index]    \n",
    "    clf_part2.fit(x_train_fold, y_train_fold)\n",
    "    clf_lst_accu_stratified.append(p1_metrics_scorer(clf_part2, x_test_fold, y_test_fold))\n",
    "\n",
    "clf_lst_accu_stratified = pd.json_normalize(clf_lst_accu_stratified)\n",
    "collate_cv_results(clf_lst_accu_stratified)"
   ]
  },
  {
   "cell_type": "markdown",
   "metadata": {},
   "source": [
    "2.3: In 5 fold cross validation, all three model has higher value than the model we create in part1. This mean, the 5 fold cross validation makes more accuracy than the part 1. Value are getting closer to 1.0. \n",
    "RF performance more consistent, the reason why could be the the dataset is good for RF to train, so it has more consistent value."
   ]
  },
  {
   "cell_type": "markdown",
   "metadata": {},
   "source": [
    "# Part 3"
   ]
  },
  {
   "cell_type": "code",
   "execution_count": 33,
   "metadata": {},
   "outputs": [],
   "source": [
    "# Summarizes model performance results produced during hyperparameter tuning\n",
    "\n",
    "def collate_ht_results(ht_results,metric_keys=metric_keys,display=True):\n",
    "    ht_stats=dict()\n",
    "    for metric in metric_keys:\n",
    "        ht_stats[metric+\"_mean\"] = ht_results.cv_results_[\"mean_test_\"+metric][ht_results.best_index_]\n",
    "        ht_stats[metric+\"_std\"] = metric_std = ht_results.cv_results_[\"std_test_\"+metric][ht_results.best_index_]\n",
    "        if display:\n",
    "            print(\"test_\"+metric,ht_stats[metric+\"_mean\"],\"(\"+str(ht_stats[metric+\"_std\"])+\")\")\n",
    "    return ht_stats"
   ]
  },
  {
   "cell_type": "code",
   "execution_count": 34,
   "metadata": {},
   "outputs": [
    {
     "name": "stdout",
     "output_type": "stream",
     "text": [
      "Best hyperparameters: {'C': 10, 'gamma': 'auto', 'kernel': 'rbf'}\n",
      "test_auc 0.7901068650498544 (0.007361504065180694)\n",
      "test_f1 0.7042996157467795 (0.009314813051023987)\n",
      "test_accuracy 0.8463391466770325 (0.003223682533061079)\n",
      "test_sensitivity 0.6649436969548461 (0.01789140670933161)\n",
      "test_specificity 0.9152700331448627 (0.004508424854580249)\n",
      "test_precision 0.749015585501374 (0.007251267932189218)\n",
      "Total Time: 602.0637948513031 seconds\n"
     ]
    }
   ],
   "source": [
    "# GridSerachCV Hyperparamter Tuning\n",
    "\n",
    "from sklearn.model_selection import GridSearchCV\n",
    "import time\n",
    "\n",
    "start = time.time()\n",
    "cls_part3_grid = SVC()\n",
    "\n",
    "parameters = {'kernel':('linear', 'rbf'), 'C':[1, 5, 10, 20], 'gamma': ('auto', 'scale')}\n",
    "gs = GridSearchCV(cls_part3_grid, parameters, scoring = p1_metrics_scorer, refit = 'auc', cv = skf, return_train_score = False, n_jobs = -1)\n",
    "gs.fit(X_train_scl, Y_train)\n",
    "print('Best hyperparameters:', gs.best_params_)\n",
    "collate_ht_results(gs)\n",
    "\n",
    "stop = time.time()\n",
    "\n",
    "print('Total Time:', (stop - start), 'seconds')"
   ]
  },
  {
   "cell_type": "code",
   "execution_count": 35,
   "metadata": {},
   "outputs": [
    {
     "name": "stdout",
     "output_type": "stream",
     "text": [
      "Best hyperparameters: {'kernel': 'rbf', 'gamma': 'auto', 'C': 10}\n",
      "test_auc 0.7901068650498544 (0.007361504065180694)\n",
      "test_f1 0.7042996157467795 (0.009314813051023987)\n",
      "test_accuracy 0.8463391466770325 (0.003223682533061079)\n",
      "test_sensitivity 0.6649436969548461 (0.01789140670933161)\n",
      "test_specificity 0.9152700331448627 (0.004508424854580249)\n",
      "test_precision 0.749015585501374 (0.007251267932189218)\n",
      "Total Time: 1810.177591085434 seconds\n"
     ]
    }
   ],
   "source": [
    "# RandomizedSearchCV Hyperparameter Tuning\n",
    "\n",
    "from sklearn.model_selection import RandomizedSearchCV\n",
    "\n",
    "start = time.time()\n",
    "cls_part3_random = SVC()\n",
    "\n",
    "parameters = {'kernel':('linear', 'rbf'), 'C':[1, 5, 10, 15, 20, 25, 30, 35, 40, 45, 50, 55, 60, 65, 70, 75, 80, 85, 90, 95, 100], 'gamma': ('auto', 'scale')}\n",
    "rs = RandomizedSearchCV(cls_part3_random, parameters, n_iter = 16, random_state = 23732975, scoring = p1_metrics_scorer, refit = 'auc', cv = skf, return_train_score = False, n_jobs = -1)\n",
    "rs.fit(X_train_scl, Y_train)\n",
    "print('Best hyperparameters:', rs.best_params_)\n",
    "collate_ht_results(rs)\n",
    "\n",
    "stop = time.time()\n",
    "\n",
    "print('Total Time:', (stop - start), 'seconds')\n"
   ]
  },
  {
   "cell_type": "markdown",
   "metadata": {},
   "source": [
    "3.5: GridSearchCV will be better in this case. The result of two accuracy is similar, the difference is less than 0.001 which not make much different. However, the time cost makes big different. RandomizedSearchCV cost triple time than GridSearchCV. So the cost of the performance is not worth it in RandomizedSearchCV."
   ]
  },
  {
   "cell_type": "markdown",
   "metadata": {},
   "source": [
    "# Part 4"
   ]
  },
  {
   "cell_type": "code",
   "execution_count": 36,
   "metadata": {},
   "outputs": [
    {
     "name": "stdout",
     "output_type": "stream",
     "text": [
      "Best hyperparameters: {'n_estimators': 90, 'max_depth': 15, 'criterion': 'entropy'}\n",
      "test_auc 0.8071007264162932 (0.009586825208327758)\n",
      "test_f1 0.7320437792627331 (0.012785304613095804)\n",
      "test_accuracy 0.862062524624988 (0.005143892487161168)\n",
      "test_sensitivity 0.6847655988951014 (0.020043870260608554)\n",
      "test_specificity 0.9294358539374852 (0.0027620628670007655)\n",
      "test_precision 0.7866487133281435 (0.006463641919548822)\n",
      "Total Time: 37.989017724990845 seconds\n"
     ]
    }
   ],
   "source": [
    "# Random Forest Hyperparamter Tuning\n",
    "\n",
    "import math\n",
    "\n",
    "start = time.time()\n",
    "clf_part4 = RandomForestClassifier(random_state = 23732975)\n",
    "\n",
    "max_tree = math.ceil(np.log2((np.absolute(len(strat_train_valid_set))) - 1))\n",
    "parameters = {'criterion':['gini','entropy'], 'max_depth':[None, max_tree], 'n_estimators':[10, 20, 30, 40, 50, 60, 70, 80, 90, 100]}\n",
    "rf = RandomizedSearchCV(clf_part4, parameters, n_iter = 16, random_state = 23732975, n_jobs = -1, scoring = p1_metrics_scorer, refit = 'auc', cv = skf, return_train_score = False)\n",
    "rf.fit(X_train, Y_train)\n",
    "print('Best hyperparameters:', rf.best_params_)\n",
    "collate_ht_results(rf)\n",
    "\n",
    "stop = time.time()\n",
    "\n",
    "print('Total Time:', (stop - start), 'seconds')\n"
   ]
  },
  {
   "cell_type": "markdown",
   "metadata": {},
   "source": [
    "4.3: As data rsult, the model in part2 performs better than hyperparameter. Only auc and sensitivity of hyperparameter is slightly higher, but really no matter. f1, accuracy, specificity, and precision is all higher in 5 fold cross validation. In addition, time cost differences is 10 times. "
   ]
  },
  {
   "cell_type": "markdown",
   "metadata": {},
   "source": [
    "# Part 5"
   ]
  },
  {
   "cell_type": "code",
   "execution_count": 37,
   "metadata": {},
   "outputs": [
    {
     "name": "stdout",
     "output_type": "stream",
     "text": [
      "Split Complete\n"
     ]
    }
   ],
   "source": [
    "# Feature Selection stratified split\n",
    "\n",
    "split_feature = StratifiedShuffleSplit(n_splits = 1, test_size = 0.1666666, random_state = 23732975)\n",
    "\n",
    "for train_index, feature_index in split.split(strat_train_set, strat_train_set['annual-income']):\n",
    "    strat_train_set_feature = strat_train_set.iloc[train_index]\n",
    "    strat_feature_set = strat_train_set.iloc[feature_index]\n",
    "\n",
    "X_train_feature = strat_train_set_feature.drop('annual-income', axis = 1)\n",
    "Y_train_feature = strat_train_set_feature['annual-income']\n",
    "\n",
    "X_feature = strat_feature_set.drop(['annual-income'], axis = 1)\n",
    "Y_feature = strat_feature_set['annual-income']\n",
    "\n",
    "print('Split Complete')"
   ]
  },
  {
   "cell_type": "code",
   "execution_count": 38,
   "metadata": {},
   "outputs": [
    {
     "data": {
      "image/png": "[encoded data removed]",
      "text/plain": [
       "<Figure size 640x480 with 1 Axes>"
      ]
     },
     "metadata": {},
     "output_type": "display_data"
    }
   ],
   "source": [
    "# Random Forest Feature Importance\n",
    "\n",
    "rffi = RandomForestClassifier(random_state = 23732975)\n",
    "\n",
    "rffi.fit(X_feature, Y_feature)\n",
    "\n",
    "feature_names = X_feature.columns\n",
    "importances = rffi.feature_importances_\n",
    "forest_importances = pd.Series(importances, index = feature_names)\n",
    "ix = np.argsort(importances)[::-1]\n",
    "importances=importances[ix]\n",
    "std = np.std([tree.feature_importances_ for tree in rffi.estimators_], axis = 0)\n",
    "fig, ax = plt.subplots()\n",
    "#sorted_idx = rffi.feature_importances_.argsort()\n",
    "#test = rffi.feature_importances_[sorted_idx]\n",
    "forest_importances.sort_values(ascending = False).plot.bar(yerr = std, ax = ax)\n",
    "ax.set_title(\"Feature importances Using MDI\")\n",
    "ax.set_ylabel(\"Mean Decrease in Impurity\")\n",
    "fig.tight_layout()"
   ]
  },
  {
   "cell_type": "code",
   "execution_count": 39,
   "metadata": {},
   "outputs": [],
   "source": [
    "X_train_6 = X_train_feature.drop(['workclass', 'relationship', 'education', 'race', 'sex','capital-loss', 'hours-per-week', 'native-country'], axis = 1)\n",
    "X_train_11 = X_train_feature.drop(['race', 'sex', 'native-country'], axis = 1)\n",
    "\n",
    "X_validation_6 = strat_validation_set.drop(['workclass', 'relationship', 'education', 'race', 'sex','capital-loss', 'hours-per-week', 'native-country', 'annual-income'], axis = 1)\n",
    "Y_validation_6 = strat_validation_set['annual-income']\n",
    "\n",
    "X_validation_11 = strat_validation_set.drop(['race', 'sex', 'native-country', 'annual-income'], axis = 1)\n",
    "Y_validation_11 = strat_validation_set['annual-income']\n"
   ]
  },
  {
   "cell_type": "code",
   "execution_count": 40,
   "metadata": {},
   "outputs": [
    {
     "data": {
      "text/html": [
       "<style>#sk-container-id-4 {color: black;background-color: white;}#sk-container-id-4 pre{padding: 0;}#sk-container-id-4 div.sk-toggleable {background-color: white;}#sk-container-id-4 label.sk-toggleable__label {cursor: pointer;display: block;width: 100%;margin-bottom: 0;padding: 0.3em;box-sizing: border-box;text-align: center;}#sk-container-id-4 label.sk-toggleable__label-arrow:before {content: \"▸\";float: left;margin-right: 0.25em;color: #696969;}#sk-container-id-4 label.sk-toggleable__label-arrow:hover:before {color: black;}#sk-container-id-4 div.sk-estimator:hover label.sk-toggleable__label-arrow:before {color: black;}#sk-container-id-4 div.sk-toggleable__content {max-height: 0;max-width: 0;overflow: hidden;text-align: left;background-color: #f0f8ff;}#sk-container-id-4 div.sk-toggleable__content pre {margin: 0.2em;color: black;border-radius: 0.25em;background-color: #f0f8ff;}#sk-container-id-4 input.sk-toggleable__control:checked~div.sk-toggleable__content {max-height: 200px;max-width: 100%;overflow: auto;}#sk-container-id-4 input.sk-toggleable__control:checked~label.sk-toggleable__label-arrow:before {content: \"▾\";}#sk-container-id-4 div.sk-estimator input.sk-toggleable__control:checked~label.sk-toggleable__label {background-color: #d4ebff;}#sk-container-id-4 div.sk-label input.sk-toggleable__control:checked~label.sk-toggleable__label {background-color: #d4ebff;}#sk-container-id-4 input.sk-hidden--visually {border: 0;clip: rect(1px 1px 1px 1px);clip: rect(1px, 1px, 1px, 1px);height: 1px;margin: -1px;overflow: hidden;padding: 0;position: absolute;width: 1px;}#sk-container-id-4 div.sk-estimator {font-family: monospace;background-color: #f0f8ff;border: 1px dotted black;border-radius: 0.25em;box-sizing: border-box;margin-bottom: 0.5em;}#sk-container-id-4 div.sk-estimator:hover {background-color: #d4ebff;}#sk-container-id-4 div.sk-parallel-item::after {content: \"\";width: 100%;border-bottom: 1px solid gray;flex-grow: 1;}#sk-container-id-4 div.sk-label:hover label.sk-toggleable__label {background-color: #d4ebff;}#sk-container-id-4 div.sk-serial::before {content: \"\";position: absolute;border-left: 1px solid gray;box-sizing: border-box;top: 0;bottom: 0;left: 50%;z-index: 0;}#sk-container-id-4 div.sk-serial {display: flex;flex-direction: column;align-items: center;background-color: white;padding-right: 0.2em;padding-left: 0.2em;position: relative;}#sk-container-id-4 div.sk-item {position: relative;z-index: 1;}#sk-container-id-4 div.sk-parallel {display: flex;align-items: stretch;justify-content: center;background-color: white;position: relative;}#sk-container-id-4 div.sk-item::before, #sk-container-id-4 div.sk-parallel-item::before {content: \"\";position: absolute;border-left: 1px solid gray;box-sizing: border-box;top: 0;bottom: 0;left: 50%;z-index: -1;}#sk-container-id-4 div.sk-parallel-item {display: flex;flex-direction: column;z-index: 1;position: relative;background-color: white;}#sk-container-id-4 div.sk-parallel-item:first-child::after {align-self: flex-end;width: 50%;}#sk-container-id-4 div.sk-parallel-item:last-child::after {align-self: flex-start;width: 50%;}#sk-container-id-4 div.sk-parallel-item:only-child::after {width: 0;}#sk-container-id-4 div.sk-dashed-wrapped {border: 1px dashed gray;margin: 0 0.4em 0.5em 0.4em;box-sizing: border-box;padding-bottom: 0.4em;background-color: white;}#sk-container-id-4 div.sk-label label {font-family: monospace;font-weight: bold;display: inline-block;line-height: 1.2em;}#sk-container-id-4 div.sk-label-container {text-align: center;}#sk-container-id-4 div.sk-container {/* jupyter's `normalize.less` sets `[hidden] { display: none; }` but bootstrap.min.css set `[hidden] { display: none !important; }` so we also need the `!important` here to be able to override the default hidden behavior on the sphinx rendered scikit-learn.org. See: https://github.com/scikit-learn/scikit-learn/issues/21755 */display: inline-block !important;position: relative;}#sk-container-id-4 div.sk-text-repr-fallback {display: none;}</style><div id=\"sk-container-id-4\" class=\"sk-top-container\"><div class=\"sk-text-repr-fallback\"><pre>GaussianNB()</pre><b>In a Jupyter environment, please rerun this cell to show the HTML representation or trust the notebook. <br />On GitHub, the HTML representation is unable to render, please try loading this page with nbviewer.org.</b></div><div class=\"sk-container\" hidden><div class=\"sk-item\"><div class=\"sk-estimator sk-toggleable\"><input class=\"sk-toggleable__control sk-hidden--visually\" id=\"sk-estimator-id-4\" type=\"checkbox\" checked><label for=\"sk-estimator-id-4\" class=\"sk-toggleable__label sk-toggleable__label-arrow\">GaussianNB</label><div class=\"sk-toggleable__content\"><pre>GaussianNB()</pre></div></div></div></div></div>"
      ],
      "text/plain": [
       "GaussianNB()"
      ]
     },
     "execution_count": 40,
     "metadata": {},
     "output_type": "execute_result"
    }
   ],
   "source": [
    "# Top 6 Features On NB\n",
    "\n",
    "gnb_6 = GaussianNB()\n",
    "gnb_6.fit(X_train_6, Y_train_feature)"
   ]
  },
  {
   "cell_type": "code",
   "execution_count": 41,
   "metadata": {},
   "outputs": [
    {
     "name": "stdout",
     "output_type": "stream",
     "text": [
      "Accuracy of NB in 6 features: 0.759666413949962\n"
     ]
    },
    {
     "data": {
      "text/plain": [
       "{'auc': 0.5909142812764729,\n",
       " 'f1': 0.33037600337980566,\n",
       " 'accuracy': 0.759666413949962,\n",
       " 'sensitivity': 0.21530837004405287,\n",
       " 'specificity': 0.9665201925088931,\n",
       " 'precision': 0.7096188747731398,\n",
       " 'confusion_matrix': array([[4619,  160],\n",
       "        [1425,  391]])}"
      ]
     },
     "execution_count": 41,
     "metadata": {},
     "output_type": "execute_result"
    }
   ],
   "source": [
    "# Compute validation set on NB\n",
    "\n",
    "Y_pred_validation = gnb_6.predict(X_validation_6)\n",
    "print(\"Accuracy of NB in 6 features:\", accuracy_score(Y_validation_6, Y_pred_validation))\n",
    "p1_metrics(Y_validation_6, Y_pred_validation)"
   ]
  },
  {
   "cell_type": "code",
   "execution_count": 42,
   "metadata": {},
   "outputs": [
    {
     "data": {
      "text/html": [
       "<style>#sk-container-id-5 {color: black;background-color: white;}#sk-container-id-5 pre{padding: 0;}#sk-container-id-5 div.sk-toggleable {background-color: white;}#sk-container-id-5 label.sk-toggleable__label {cursor: pointer;display: block;width: 100%;margin-bottom: 0;padding: 0.3em;box-sizing: border-box;text-align: center;}#sk-container-id-5 label.sk-toggleable__label-arrow:before {content: \"▸\";float: left;margin-right: 0.25em;color: #696969;}#sk-container-id-5 label.sk-toggleable__label-arrow:hover:before {color: black;}#sk-container-id-5 div.sk-estimator:hover label.sk-toggleable__label-arrow:before {color: black;}#sk-container-id-5 div.sk-toggleable__content {max-height: 0;max-width: 0;overflow: hidden;text-align: left;background-color: #f0f8ff;}#sk-container-id-5 div.sk-toggleable__content pre {margin: 0.2em;color: black;border-radius: 0.25em;background-color: #f0f8ff;}#sk-container-id-5 input.sk-toggleable__control:checked~div.sk-toggleable__content {max-height: 200px;max-width: 100%;overflow: auto;}#sk-container-id-5 input.sk-toggleable__control:checked~label.sk-toggleable__label-arrow:before {content: \"▾\";}#sk-container-id-5 div.sk-estimator input.sk-toggleable__control:checked~label.sk-toggleable__label {background-color: #d4ebff;}#sk-container-id-5 div.sk-label input.sk-toggleable__control:checked~label.sk-toggleable__label {background-color: #d4ebff;}#sk-container-id-5 input.sk-hidden--visually {border: 0;clip: rect(1px 1px 1px 1px);clip: rect(1px, 1px, 1px, 1px);height: 1px;margin: -1px;overflow: hidden;padding: 0;position: absolute;width: 1px;}#sk-container-id-5 div.sk-estimator {font-family: monospace;background-color: #f0f8ff;border: 1px dotted black;border-radius: 0.25em;box-sizing: border-box;margin-bottom: 0.5em;}#sk-container-id-5 div.sk-estimator:hover {background-color: #d4ebff;}#sk-container-id-5 div.sk-parallel-item::after {content: \"\";width: 100%;border-bottom: 1px solid gray;flex-grow: 1;}#sk-container-id-5 div.sk-label:hover label.sk-toggleable__label {background-color: #d4ebff;}#sk-container-id-5 div.sk-serial::before {content: \"\";position: absolute;border-left: 1px solid gray;box-sizing: border-box;top: 0;bottom: 0;left: 50%;z-index: 0;}#sk-container-id-5 div.sk-serial {display: flex;flex-direction: column;align-items: center;background-color: white;padding-right: 0.2em;padding-left: 0.2em;position: relative;}#sk-container-id-5 div.sk-item {position: relative;z-index: 1;}#sk-container-id-5 div.sk-parallel {display: flex;align-items: stretch;justify-content: center;background-color: white;position: relative;}#sk-container-id-5 div.sk-item::before, #sk-container-id-5 div.sk-parallel-item::before {content: \"\";position: absolute;border-left: 1px solid gray;box-sizing: border-box;top: 0;bottom: 0;left: 50%;z-index: -1;}#sk-container-id-5 div.sk-parallel-item {display: flex;flex-direction: column;z-index: 1;position: relative;background-color: white;}#sk-container-id-5 div.sk-parallel-item:first-child::after {align-self: flex-end;width: 50%;}#sk-container-id-5 div.sk-parallel-item:last-child::after {align-self: flex-start;width: 50%;}#sk-container-id-5 div.sk-parallel-item:only-child::after {width: 0;}#sk-container-id-5 div.sk-dashed-wrapped {border: 1px dashed gray;margin: 0 0.4em 0.5em 0.4em;box-sizing: border-box;padding-bottom: 0.4em;background-color: white;}#sk-container-id-5 div.sk-label label {font-family: monospace;font-weight: bold;display: inline-block;line-height: 1.2em;}#sk-container-id-5 div.sk-label-container {text-align: center;}#sk-container-id-5 div.sk-container {/* jupyter's `normalize.less` sets `[hidden] { display: none; }` but bootstrap.min.css set `[hidden] { display: none !important; }` so we also need the `!important` here to be able to override the default hidden behavior on the sphinx rendered scikit-learn.org. See: https://github.com/scikit-learn/scikit-learn/issues/21755 */display: inline-block !important;position: relative;}#sk-container-id-5 div.sk-text-repr-fallback {display: none;}</style><div id=\"sk-container-id-5\" class=\"sk-top-container\"><div class=\"sk-text-repr-fallback\"><pre>SVC()</pre><b>In a Jupyter environment, please rerun this cell to show the HTML representation or trust the notebook. <br />On GitHub, the HTML representation is unable to render, please try loading this page with nbviewer.org.</b></div><div class=\"sk-container\" hidden><div class=\"sk-item\"><div class=\"sk-estimator sk-toggleable\"><input class=\"sk-toggleable__control sk-hidden--visually\" id=\"sk-estimator-id-5\" type=\"checkbox\" checked><label for=\"sk-estimator-id-5\" class=\"sk-toggleable__label sk-toggleable__label-arrow\">SVC</label><div class=\"sk-toggleable__content\"><pre>SVC()</pre></div></div></div></div></div>"
      ],
      "text/plain": [
       "SVC()"
      ]
     },
     "execution_count": 42,
     "metadata": {},
     "output_type": "execute_result"
    }
   ],
   "source": [
    "# Top 6 Features On SVM\n",
    "\n",
    "#Standardized X_Train\n",
    "#X_train_6_scl = scaler.fit_transform(X_train_6)\n",
    "\n",
    "cls_6 = SVC()\n",
    "cls_6.fit(X_train_6, Y_train_feature)"
   ]
  },
  {
   "cell_type": "code",
   "execution_count": 43,
   "metadata": {},
   "outputs": [
    {
     "name": "stdout",
     "output_type": "stream",
     "text": [
      "Accuracy of SVM in 6 features: 0.7332827899924185\n"
     ]
    },
    {
     "data": {
      "text/plain": [
       "{'auc': 0.5160352445952511,\n",
       " 'f1': 0.06286627597229622,\n",
       " 'accuracy': 0.7332827899924185,\n",
       " 'sensitivity': 0.03248898678414097,\n",
       " 'specificity': 0.9995815024063611,\n",
       " 'precision': 0.9672131147540983,\n",
       " 'confusion_matrix': array([[4777,    2],\n",
       "        [1757,   59]])}"
      ]
     },
     "execution_count": 43,
     "metadata": {},
     "output_type": "execute_result"
    }
   ],
   "source": [
    "# Compute Validation Set on SVM\n",
    "\n",
    "Y_pred_validation = cls_6.predict(X_validation_6)\n",
    "print(\"Accuracy of SVM in 6 features:\", accuracy_score(Y_validation_6, Y_pred_validation))\n",
    "p1_metrics(Y_validation_6, Y_pred_validation)"
   ]
  },
  {
   "cell_type": "code",
   "execution_count": 44,
   "metadata": {},
   "outputs": [
    {
     "data": {
      "text/html": [
       "<style>#sk-container-id-6 {color: black;background-color: white;}#sk-container-id-6 pre{padding: 0;}#sk-container-id-6 div.sk-toggleable {background-color: white;}#sk-container-id-6 label.sk-toggleable__label {cursor: pointer;display: block;width: 100%;margin-bottom: 0;padding: 0.3em;box-sizing: border-box;text-align: center;}#sk-container-id-6 label.sk-toggleable__label-arrow:before {content: \"▸\";float: left;margin-right: 0.25em;color: #696969;}#sk-container-id-6 label.sk-toggleable__label-arrow:hover:before {color: black;}#sk-container-id-6 div.sk-estimator:hover label.sk-toggleable__label-arrow:before {color: black;}#sk-container-id-6 div.sk-toggleable__content {max-height: 0;max-width: 0;overflow: hidden;text-align: left;background-color: #f0f8ff;}#sk-container-id-6 div.sk-toggleable__content pre {margin: 0.2em;color: black;border-radius: 0.25em;background-color: #f0f8ff;}#sk-container-id-6 input.sk-toggleable__control:checked~div.sk-toggleable__content {max-height: 200px;max-width: 100%;overflow: auto;}#sk-container-id-6 input.sk-toggleable__control:checked~label.sk-toggleable__label-arrow:before {content: \"▾\";}#sk-container-id-6 div.sk-estimator input.sk-toggleable__control:checked~label.sk-toggleable__label {background-color: #d4ebff;}#sk-container-id-6 div.sk-label input.sk-toggleable__control:checked~label.sk-toggleable__label {background-color: #d4ebff;}#sk-container-id-6 input.sk-hidden--visually {border: 0;clip: rect(1px 1px 1px 1px);clip: rect(1px, 1px, 1px, 1px);height: 1px;margin: -1px;overflow: hidden;padding: 0;position: absolute;width: 1px;}#sk-container-id-6 div.sk-estimator {font-family: monospace;background-color: #f0f8ff;border: 1px dotted black;border-radius: 0.25em;box-sizing: border-box;margin-bottom: 0.5em;}#sk-container-id-6 div.sk-estimator:hover {background-color: #d4ebff;}#sk-container-id-6 div.sk-parallel-item::after {content: \"\";width: 100%;border-bottom: 1px solid gray;flex-grow: 1;}#sk-container-id-6 div.sk-label:hover label.sk-toggleable__label {background-color: #d4ebff;}#sk-container-id-6 div.sk-serial::before {content: \"\";position: absolute;border-left: 1px solid gray;box-sizing: border-box;top: 0;bottom: 0;left: 50%;z-index: 0;}#sk-container-id-6 div.sk-serial {display: flex;flex-direction: column;align-items: center;background-color: white;padding-right: 0.2em;padding-left: 0.2em;position: relative;}#sk-container-id-6 div.sk-item {position: relative;z-index: 1;}#sk-container-id-6 div.sk-parallel {display: flex;align-items: stretch;justify-content: center;background-color: white;position: relative;}#sk-container-id-6 div.sk-item::before, #sk-container-id-6 div.sk-parallel-item::before {content: \"\";position: absolute;border-left: 1px solid gray;box-sizing: border-box;top: 0;bottom: 0;left: 50%;z-index: -1;}#sk-container-id-6 div.sk-parallel-item {display: flex;flex-direction: column;z-index: 1;position: relative;background-color: white;}#sk-container-id-6 div.sk-parallel-item:first-child::after {align-self: flex-end;width: 50%;}#sk-container-id-6 div.sk-parallel-item:last-child::after {align-self: flex-start;width: 50%;}#sk-container-id-6 div.sk-parallel-item:only-child::after {width: 0;}#sk-container-id-6 div.sk-dashed-wrapped {border: 1px dashed gray;margin: 0 0.4em 0.5em 0.4em;box-sizing: border-box;padding-bottom: 0.4em;background-color: white;}#sk-container-id-6 div.sk-label label {font-family: monospace;font-weight: bold;display: inline-block;line-height: 1.2em;}#sk-container-id-6 div.sk-label-container {text-align: center;}#sk-container-id-6 div.sk-container {/* jupyter's `normalize.less` sets `[hidden] { display: none; }` but bootstrap.min.css set `[hidden] { display: none !important; }` so we also need the `!important` here to be able to override the default hidden behavior on the sphinx rendered scikit-learn.org. See: https://github.com/scikit-learn/scikit-learn/issues/21755 */display: inline-block !important;position: relative;}#sk-container-id-6 div.sk-text-repr-fallback {display: none;}</style><div id=\"sk-container-id-6\" class=\"sk-top-container\"><div class=\"sk-text-repr-fallback\"><pre>RandomForestClassifier(random_state=23732975)</pre><b>In a Jupyter environment, please rerun this cell to show the HTML representation or trust the notebook. <br />On GitHub, the HTML representation is unable to render, please try loading this page with nbviewer.org.</b></div><div class=\"sk-container\" hidden><div class=\"sk-item\"><div class=\"sk-estimator sk-toggleable\"><input class=\"sk-toggleable__control sk-hidden--visually\" id=\"sk-estimator-id-6\" type=\"checkbox\" checked><label for=\"sk-estimator-id-6\" class=\"sk-toggleable__label sk-toggleable__label-arrow\">RandomForestClassifier</label><div class=\"sk-toggleable__content\"><pre>RandomForestClassifier(random_state=23732975)</pre></div></div></div></div></div>"
      ],
      "text/plain": [
       "RandomForestClassifier(random_state=23732975)"
      ]
     },
     "execution_count": 44,
     "metadata": {},
     "output_type": "execute_result"
    }
   ],
   "source": [
    "# Top 6 Feature on RF\n",
    "\n",
    "clf_6 = RandomForestClassifier(random_state = 23732975)\n",
    "clf_6.fit(X_train_6, Y_train_feature)"
   ]
  },
  {
   "cell_type": "code",
   "execution_count": 45,
   "metadata": {},
   "outputs": [
    {
     "name": "stdout",
     "output_type": "stream",
     "text": [
      "Accuracy of RF in 6 features: 0.8324488248673237\n"
     ]
    },
    {
     "data": {
      "text/plain": [
       "{'auc': 0.7773573789698507,\n",
       " 'f1': 0.68274476026414,\n",
       " 'accuracy': 0.8324488248673237,\n",
       " 'sensitivity': 0.6547356828193832,\n",
       " 'specificity': 0.899979075120318,\n",
       " 'precision': 0.713257348530294,\n",
       " 'confusion_matrix': array([[4301,  478],\n",
       "        [ 627, 1189]])}"
      ]
     },
     "execution_count": 45,
     "metadata": {},
     "output_type": "execute_result"
    }
   ],
   "source": [
    "# Compute Validation Set on RF\n",
    "\n",
    "Y_pred_validation = clf_6.predict(X_validation_6)\n",
    "print(\"Accuracy of RF in 6 features:\", accuracy_score(Y_validation_6, Y_pred_validation))\n",
    "p1_metrics(Y_validation_6, Y_pred_validation)"
   ]
  },
  {
   "cell_type": "code",
   "execution_count": 46,
   "metadata": {},
   "outputs": [
    {
     "name": "stdout",
     "output_type": "stream",
     "text": [
      "Top 6 Features Accuracy on Three Models\n",
      "Accuracy of NB: 0.759666413949962\n",
      "Accuracy of SVM: 0.7332827899924185\n",
      "Accuracy of NB: 0.8324488248673237\n"
     ]
    }
   ],
   "source": [
    "#Top 6 Features Accuracy on Three Models\n",
    "\n",
    "print('Top 6 Features Accuracy on Three Models')\n",
    "\n",
    "# Compute Validation Set on NB\n",
    "Y_pred_validation = gnb_6.predict(X_validation_6)\n",
    "print(\"Accuracy of NB:\", accuracy_score(Y_validation_6, Y_pred_validation))\n",
    "\n",
    "# Compute Validation Set on SVM\n",
    "Y_pred_validation = cls_6.predict(X_validation_6)\n",
    "print(\"Accuracy of SVM:\", accuracy_score(Y_validation_6, Y_pred_validation))\n",
    "\n",
    "# Compute Validation Set on RF\n",
    "Y_pred_validation = clf_6.predict(X_validation_6)\n",
    "print(\"Accuracy of NB:\", accuracy_score(Y_validation_6, Y_pred_validation))\n",
    "\n"
   ]
  },
  {
   "cell_type": "code",
   "execution_count": 47,
   "metadata": {},
   "outputs": [
    {
     "data": {
      "text/html": [
       "<style>#sk-container-id-7 {color: black;background-color: white;}#sk-container-id-7 pre{padding: 0;}#sk-container-id-7 div.sk-toggleable {background-color: white;}#sk-container-id-7 label.sk-toggleable__label {cursor: pointer;display: block;width: 100%;margin-bottom: 0;padding: 0.3em;box-sizing: border-box;text-align: center;}#sk-container-id-7 label.sk-toggleable__label-arrow:before {content: \"▸\";float: left;margin-right: 0.25em;color: #696969;}#sk-container-id-7 label.sk-toggleable__label-arrow:hover:before {color: black;}#sk-container-id-7 div.sk-estimator:hover label.sk-toggleable__label-arrow:before {color: black;}#sk-container-id-7 div.sk-toggleable__content {max-height: 0;max-width: 0;overflow: hidden;text-align: left;background-color: #f0f8ff;}#sk-container-id-7 div.sk-toggleable__content pre {margin: 0.2em;color: black;border-radius: 0.25em;background-color: #f0f8ff;}#sk-container-id-7 input.sk-toggleable__control:checked~div.sk-toggleable__content {max-height: 200px;max-width: 100%;overflow: auto;}#sk-container-id-7 input.sk-toggleable__control:checked~label.sk-toggleable__label-arrow:before {content: \"▾\";}#sk-container-id-7 div.sk-estimator input.sk-toggleable__control:checked~label.sk-toggleable__label {background-color: #d4ebff;}#sk-container-id-7 div.sk-label input.sk-toggleable__control:checked~label.sk-toggleable__label {background-color: #d4ebff;}#sk-container-id-7 input.sk-hidden--visually {border: 0;clip: rect(1px 1px 1px 1px);clip: rect(1px, 1px, 1px, 1px);height: 1px;margin: -1px;overflow: hidden;padding: 0;position: absolute;width: 1px;}#sk-container-id-7 div.sk-estimator {font-family: monospace;background-color: #f0f8ff;border: 1px dotted black;border-radius: 0.25em;box-sizing: border-box;margin-bottom: 0.5em;}#sk-container-id-7 div.sk-estimator:hover {background-color: #d4ebff;}#sk-container-id-7 div.sk-parallel-item::after {content: \"\";width: 100%;border-bottom: 1px solid gray;flex-grow: 1;}#sk-container-id-7 div.sk-label:hover label.sk-toggleable__label {background-color: #d4ebff;}#sk-container-id-7 div.sk-serial::before {content: \"\";position: absolute;border-left: 1px solid gray;box-sizing: border-box;top: 0;bottom: 0;left: 50%;z-index: 0;}#sk-container-id-7 div.sk-serial {display: flex;flex-direction: column;align-items: center;background-color: white;padding-right: 0.2em;padding-left: 0.2em;position: relative;}#sk-container-id-7 div.sk-item {position: relative;z-index: 1;}#sk-container-id-7 div.sk-parallel {display: flex;align-items: stretch;justify-content: center;background-color: white;position: relative;}#sk-container-id-7 div.sk-item::before, #sk-container-id-7 div.sk-parallel-item::before {content: \"\";position: absolute;border-left: 1px solid gray;box-sizing: border-box;top: 0;bottom: 0;left: 50%;z-index: -1;}#sk-container-id-7 div.sk-parallel-item {display: flex;flex-direction: column;z-index: 1;position: relative;background-color: white;}#sk-container-id-7 div.sk-parallel-item:first-child::after {align-self: flex-end;width: 50%;}#sk-container-id-7 div.sk-parallel-item:last-child::after {align-self: flex-start;width: 50%;}#sk-container-id-7 div.sk-parallel-item:only-child::after {width: 0;}#sk-container-id-7 div.sk-dashed-wrapped {border: 1px dashed gray;margin: 0 0.4em 0.5em 0.4em;box-sizing: border-box;padding-bottom: 0.4em;background-color: white;}#sk-container-id-7 div.sk-label label {font-family: monospace;font-weight: bold;display: inline-block;line-height: 1.2em;}#sk-container-id-7 div.sk-label-container {text-align: center;}#sk-container-id-7 div.sk-container {/* jupyter's `normalize.less` sets `[hidden] { display: none; }` but bootstrap.min.css set `[hidden] { display: none !important; }` so we also need the `!important` here to be able to override the default hidden behavior on the sphinx rendered scikit-learn.org. See: https://github.com/scikit-learn/scikit-learn/issues/21755 */display: inline-block !important;position: relative;}#sk-container-id-7 div.sk-text-repr-fallback {display: none;}</style><div id=\"sk-container-id-7\" class=\"sk-top-container\"><div class=\"sk-text-repr-fallback\"><pre>GaussianNB()</pre><b>In a Jupyter environment, please rerun this cell to show the HTML representation or trust the notebook. <br />On GitHub, the HTML representation is unable to render, please try loading this page with nbviewer.org.</b></div><div class=\"sk-container\" hidden><div class=\"sk-item\"><div class=\"sk-estimator sk-toggleable\"><input class=\"sk-toggleable__control sk-hidden--visually\" id=\"sk-estimator-id-7\" type=\"checkbox\" checked><label for=\"sk-estimator-id-7\" class=\"sk-toggleable__label sk-toggleable__label-arrow\">GaussianNB</label><div class=\"sk-toggleable__content\"><pre>GaussianNB()</pre></div></div></div></div></div>"
      ],
      "text/plain": [
       "GaussianNB()"
      ]
     },
     "execution_count": 47,
     "metadata": {},
     "output_type": "execute_result"
    }
   ],
   "source": [
    "# Top 11 Features On NB\n",
    "\n",
    "gnb_11 = GaussianNB()\n",
    "gnb_11.fit(X_train_11, Y_train_feature)\n"
   ]
  },
  {
   "cell_type": "code",
   "execution_count": 48,
   "metadata": {},
   "outputs": [
    {
     "name": "stdout",
     "output_type": "stream",
     "text": [
      "Accuracy of NB in 11 features: 0.7672479150871873\n"
     ]
    },
    {
     "data": {
      "text/plain": [
       "{'auc': 0.6229463428933302,\n",
       " 'f1': 0.4165716457620676,\n",
       " 'accuracy': 0.7672479150871873,\n",
       " 'sensitivity': 0.30176211453744495,\n",
       " 'specificity': 0.9441305712492153,\n",
       " 'precision': 0.6723926380368098,\n",
       " 'confusion_matrix': array([[4512,  267],\n",
       "        [1268,  548]])}"
      ]
     },
     "execution_count": 48,
     "metadata": {},
     "output_type": "execute_result"
    }
   ],
   "source": [
    "# Compute validation set on NB\n",
    "\n",
    "Y_pred_validation = gnb_11.predict(X_validation_11)\n",
    "print(\"Accuracy of NB in 11 features:\", accuracy_score(Y_validation_11, Y_pred_validation))\n",
    "p1_metrics(Y_validation_11, Y_pred_validation)"
   ]
  },
  {
   "cell_type": "code",
   "execution_count": 49,
   "metadata": {},
   "outputs": [
    {
     "data": {
      "text/html": [
       "<style>#sk-container-id-8 {color: black;background-color: white;}#sk-container-id-8 pre{padding: 0;}#sk-container-id-8 div.sk-toggleable {background-color: white;}#sk-container-id-8 label.sk-toggleable__label {cursor: pointer;display: block;width: 100%;margin-bottom: 0;padding: 0.3em;box-sizing: border-box;text-align: center;}#sk-container-id-8 label.sk-toggleable__label-arrow:before {content: \"▸\";float: left;margin-right: 0.25em;color: #696969;}#sk-container-id-8 label.sk-toggleable__label-arrow:hover:before {color: black;}#sk-container-id-8 div.sk-estimator:hover label.sk-toggleable__label-arrow:before {color: black;}#sk-container-id-8 div.sk-toggleable__content {max-height: 0;max-width: 0;overflow: hidden;text-align: left;background-color: #f0f8ff;}#sk-container-id-8 div.sk-toggleable__content pre {margin: 0.2em;color: black;border-radius: 0.25em;background-color: #f0f8ff;}#sk-container-id-8 input.sk-toggleable__control:checked~div.sk-toggleable__content {max-height: 200px;max-width: 100%;overflow: auto;}#sk-container-id-8 input.sk-toggleable__control:checked~label.sk-toggleable__label-arrow:before {content: \"▾\";}#sk-container-id-8 div.sk-estimator input.sk-toggleable__control:checked~label.sk-toggleable__label {background-color: #d4ebff;}#sk-container-id-8 div.sk-label input.sk-toggleable__control:checked~label.sk-toggleable__label {background-color: #d4ebff;}#sk-container-id-8 input.sk-hidden--visually {border: 0;clip: rect(1px 1px 1px 1px);clip: rect(1px, 1px, 1px, 1px);height: 1px;margin: -1px;overflow: hidden;padding: 0;position: absolute;width: 1px;}#sk-container-id-8 div.sk-estimator {font-family: monospace;background-color: #f0f8ff;border: 1px dotted black;border-radius: 0.25em;box-sizing: border-box;margin-bottom: 0.5em;}#sk-container-id-8 div.sk-estimator:hover {background-color: #d4ebff;}#sk-container-id-8 div.sk-parallel-item::after {content: \"\";width: 100%;border-bottom: 1px solid gray;flex-grow: 1;}#sk-container-id-8 div.sk-label:hover label.sk-toggleable__label {background-color: #d4ebff;}#sk-container-id-8 div.sk-serial::before {content: \"\";position: absolute;border-left: 1px solid gray;box-sizing: border-box;top: 0;bottom: 0;left: 50%;z-index: 0;}#sk-container-id-8 div.sk-serial {display: flex;flex-direction: column;align-items: center;background-color: white;padding-right: 0.2em;padding-left: 0.2em;position: relative;}#sk-container-id-8 div.sk-item {position: relative;z-index: 1;}#sk-container-id-8 div.sk-parallel {display: flex;align-items: stretch;justify-content: center;background-color: white;position: relative;}#sk-container-id-8 div.sk-item::before, #sk-container-id-8 div.sk-parallel-item::before {content: \"\";position: absolute;border-left: 1px solid gray;box-sizing: border-box;top: 0;bottom: 0;left: 50%;z-index: -1;}#sk-container-id-8 div.sk-parallel-item {display: flex;flex-direction: column;z-index: 1;position: relative;background-color: white;}#sk-container-id-8 div.sk-parallel-item:first-child::after {align-self: flex-end;width: 50%;}#sk-container-id-8 div.sk-parallel-item:last-child::after {align-self: flex-start;width: 50%;}#sk-container-id-8 div.sk-parallel-item:only-child::after {width: 0;}#sk-container-id-8 div.sk-dashed-wrapped {border: 1px dashed gray;margin: 0 0.4em 0.5em 0.4em;box-sizing: border-box;padding-bottom: 0.4em;background-color: white;}#sk-container-id-8 div.sk-label label {font-family: monospace;font-weight: bold;display: inline-block;line-height: 1.2em;}#sk-container-id-8 div.sk-label-container {text-align: center;}#sk-container-id-8 div.sk-container {/* jupyter's `normalize.less` sets `[hidden] { display: none; }` but bootstrap.min.css set `[hidden] { display: none !important; }` so we also need the `!important` here to be able to override the default hidden behavior on the sphinx rendered scikit-learn.org. See: https://github.com/scikit-learn/scikit-learn/issues/21755 */display: inline-block !important;position: relative;}#sk-container-id-8 div.sk-text-repr-fallback {display: none;}</style><div id=\"sk-container-id-8\" class=\"sk-top-container\"><div class=\"sk-text-repr-fallback\"><pre>SVC()</pre><b>In a Jupyter environment, please rerun this cell to show the HTML representation or trust the notebook. <br />On GitHub, the HTML representation is unable to render, please try loading this page with nbviewer.org.</b></div><div class=\"sk-container\" hidden><div class=\"sk-item\"><div class=\"sk-estimator sk-toggleable\"><input class=\"sk-toggleable__control sk-hidden--visually\" id=\"sk-estimator-id-8\" type=\"checkbox\" checked><label for=\"sk-estimator-id-8\" class=\"sk-toggleable__label sk-toggleable__label-arrow\">SVC</label><div class=\"sk-toggleable__content\"><pre>SVC()</pre></div></div></div></div></div>"
      ],
      "text/plain": [
       "SVC()"
      ]
     },
     "execution_count": 49,
     "metadata": {},
     "output_type": "execute_result"
    }
   ],
   "source": [
    "# Top 11 Features On SVM\n",
    "\n",
    "#Standardized X_Train\n",
    "#X_train_11_scl = scaler.fit_transform(X_train_11)\n",
    "\n",
    "cls_11 = SVC()\n",
    "cls_11.fit(X_train_11, Y_train_feature)"
   ]
  },
  {
   "cell_type": "code",
   "execution_count": 50,
   "metadata": {},
   "outputs": [
    {
     "name": "stdout",
     "output_type": "stream",
     "text": [
      "Accuracy of SVM in 11 features: 0.732827899924185\n"
     ]
    },
    {
     "data": {
      "text/plain": [
       "{'auc': 0.5152092534058238,\n",
       " 'f1': 0.05976520811099253,\n",
       " 'accuracy': 0.732827899924185,\n",
       " 'sensitivity': 0.030837004405286344,\n",
       " 'specificity': 0.9995815024063611,\n",
       " 'precision': 0.9655172413793104,\n",
       " 'confusion_matrix': array([[4777,    2],\n",
       "        [1760,   56]])}"
      ]
     },
     "execution_count": 50,
     "metadata": {},
     "output_type": "execute_result"
    }
   ],
   "source": [
    "# Compute Validation Set on SVM\n",
    "\n",
    "Y_pred_validation = cls_11.predict(X_validation_11)\n",
    "print(\"Accuracy of SVM in 11 features:\", accuracy_score(Y_validation_11, Y_pred_validation))\n",
    "p1_metrics(Y_validation_11, Y_pred_validation)"
   ]
  },
  {
   "cell_type": "code",
   "execution_count": 51,
   "metadata": {},
   "outputs": [
    {
     "data": {
      "text/html": [
       "<style>#sk-container-id-9 {color: black;background-color: white;}#sk-container-id-9 pre{padding: 0;}#sk-container-id-9 div.sk-toggleable {background-color: white;}#sk-container-id-9 label.sk-toggleable__label {cursor: pointer;display: block;width: 100%;margin-bottom: 0;padding: 0.3em;box-sizing: border-box;text-align: center;}#sk-container-id-9 label.sk-toggleable__label-arrow:before {content: \"▸\";float: left;margin-right: 0.25em;color: #696969;}#sk-container-id-9 label.sk-toggleable__label-arrow:hover:before {color: black;}#sk-container-id-9 div.sk-estimator:hover label.sk-toggleable__label-arrow:before {color: black;}#sk-container-id-9 div.sk-toggleable__content {max-height: 0;max-width: 0;overflow: hidden;text-align: left;background-color: #f0f8ff;}#sk-container-id-9 div.sk-toggleable__content pre {margin: 0.2em;color: black;border-radius: 0.25em;background-color: #f0f8ff;}#sk-container-id-9 input.sk-toggleable__control:checked~div.sk-toggleable__content {max-height: 200px;max-width: 100%;overflow: auto;}#sk-container-id-9 input.sk-toggleable__control:checked~label.sk-toggleable__label-arrow:before {content: \"▾\";}#sk-container-id-9 div.sk-estimator input.sk-toggleable__control:checked~label.sk-toggleable__label {background-color: #d4ebff;}#sk-container-id-9 div.sk-label input.sk-toggleable__control:checked~label.sk-toggleable__label {background-color: #d4ebff;}#sk-container-id-9 input.sk-hidden--visually {border: 0;clip: rect(1px 1px 1px 1px);clip: rect(1px, 1px, 1px, 1px);height: 1px;margin: -1px;overflow: hidden;padding: 0;position: absolute;width: 1px;}#sk-container-id-9 div.sk-estimator {font-family: monospace;background-color: #f0f8ff;border: 1px dotted black;border-radius: 0.25em;box-sizing: border-box;margin-bottom: 0.5em;}#sk-container-id-9 div.sk-estimator:hover {background-color: #d4ebff;}#sk-container-id-9 div.sk-parallel-item::after {content: \"\";width: 100%;border-bottom: 1px solid gray;flex-grow: 1;}#sk-container-id-9 div.sk-label:hover label.sk-toggleable__label {background-color: #d4ebff;}#sk-container-id-9 div.sk-serial::before {content: \"\";position: absolute;border-left: 1px solid gray;box-sizing: border-box;top: 0;bottom: 0;left: 50%;z-index: 0;}#sk-container-id-9 div.sk-serial {display: flex;flex-direction: column;align-items: center;background-color: white;padding-right: 0.2em;padding-left: 0.2em;position: relative;}#sk-container-id-9 div.sk-item {position: relative;z-index: 1;}#sk-container-id-9 div.sk-parallel {display: flex;align-items: stretch;justify-content: center;background-color: white;position: relative;}#sk-container-id-9 div.sk-item::before, #sk-container-id-9 div.sk-parallel-item::before {content: \"\";position: absolute;border-left: 1px solid gray;box-sizing: border-box;top: 0;bottom: 0;left: 50%;z-index: -1;}#sk-container-id-9 div.sk-parallel-item {display: flex;flex-direction: column;z-index: 1;position: relative;background-color: white;}#sk-container-id-9 div.sk-parallel-item:first-child::after {align-self: flex-end;width: 50%;}#sk-container-id-9 div.sk-parallel-item:last-child::after {align-self: flex-start;width: 50%;}#sk-container-id-9 div.sk-parallel-item:only-child::after {width: 0;}#sk-container-id-9 div.sk-dashed-wrapped {border: 1px dashed gray;margin: 0 0.4em 0.5em 0.4em;box-sizing: border-box;padding-bottom: 0.4em;background-color: white;}#sk-container-id-9 div.sk-label label {font-family: monospace;font-weight: bold;display: inline-block;line-height: 1.2em;}#sk-container-id-9 div.sk-label-container {text-align: center;}#sk-container-id-9 div.sk-container {/* jupyter's `normalize.less` sets `[hidden] { display: none; }` but bootstrap.min.css set `[hidden] { display: none !important; }` so we also need the `!important` here to be able to override the default hidden behavior on the sphinx rendered scikit-learn.org. See: https://github.com/scikit-learn/scikit-learn/issues/21755 */display: inline-block !important;position: relative;}#sk-container-id-9 div.sk-text-repr-fallback {display: none;}</style><div id=\"sk-container-id-9\" class=\"sk-top-container\"><div class=\"sk-text-repr-fallback\"><pre>RandomForestClassifier(random_state=23732975)</pre><b>In a Jupyter environment, please rerun this cell to show the HTML representation or trust the notebook. <br />On GitHub, the HTML representation is unable to render, please try loading this page with nbviewer.org.</b></div><div class=\"sk-container\" hidden><div class=\"sk-item\"><div class=\"sk-estimator sk-toggleable\"><input class=\"sk-toggleable__control sk-hidden--visually\" id=\"sk-estimator-id-9\" type=\"checkbox\" checked><label for=\"sk-estimator-id-9\" class=\"sk-toggleable__label sk-toggleable__label-arrow\">RandomForestClassifier</label><div class=\"sk-toggleable__content\"><pre>RandomForestClassifier(random_state=23732975)</pre></div></div></div></div></div>"
      ],
      "text/plain": [
       "RandomForestClassifier(random_state=23732975)"
      ]
     },
     "execution_count": 51,
     "metadata": {},
     "output_type": "execute_result"
    }
   ],
   "source": [
    "# Top 11 Feature on RF\n",
    "\n",
    "clf_11 = RandomForestClassifier(random_state = 23732975)\n",
    "clf_11.fit(X_train_11, Y_train_feature)"
   ]
  },
  {
   "cell_type": "code",
   "execution_count": 52,
   "metadata": {},
   "outputs": [
    {
     "name": "stdout",
     "output_type": "stream",
     "text": [
      "Accuracy of RF in 11 features: 0.8451857467778621\n"
     ]
    },
    {
     "data": {
      "text/plain": [
       "{'auc': 0.791096302380182,\n",
       " 'f1': 0.7046572172403819,\n",
       " 'accuracy': 0.8451857467778621,\n",
       " 'sensitivity': 0.670704845814978,\n",
       " 'specificity': 0.911487758945386,\n",
       " 'precision': 0.7422303473491774,\n",
       " 'confusion_matrix': array([[4356,  423],\n",
       "        [ 598, 1218]])}"
      ]
     },
     "execution_count": 52,
     "metadata": {},
     "output_type": "execute_result"
    }
   ],
   "source": [
    "# Compute Validation Set on RF\n",
    "\n",
    "Y_pred_validation = clf_11.predict(X_validation_11)\n",
    "print(\"Accuracy of RF in 11 features:\", accuracy_score(Y_validation_11, Y_pred_validation))\n",
    "p1_metrics(Y_validation_11, Y_pred_validation)"
   ]
  },
  {
   "cell_type": "code",
   "execution_count": 53,
   "metadata": {},
   "outputs": [
    {
     "name": "stdout",
     "output_type": "stream",
     "text": [
      "Original Three Models\n",
      "Accuracy of NB: 0.7690674753601213\n",
      "Accuracy of SVM: 0.7626990144048522\n",
      "Accuracy of RF: 0.8463987869598181\n",
      "\n",
      "Top 6 Features Accuracy on Three Models\n",
      "Accuracy of NB: 0.759666413949962\n",
      "Accuracy of SVM: 0.7332827899924185\n",
      "Accuracy of NB: 0.8324488248673237\n",
      "\n",
      "Top 11 Features Accuracy on Three Models\n",
      "Accuracy of NB: 0.7672479150871873\n",
      "Accuracy of SVM: 0.732827899924185\n",
      "Accuracy of RF: 0.8451857467778621\n"
     ]
    }
   ],
   "source": [
    "#Original Three Models\n",
    "\n",
    "print('Original Three Models')\n",
    "\n",
    "#NB\n",
    "Y_pred_validation = gnb.predict(X_validation)\n",
    "print(\"Accuracy of NB:\", accuracy_score(Y_validation,Y_pred_validation))\n",
    "\n",
    "#SVM\n",
    "Y_pred_validation = cls.predict(X_validation)\n",
    "print(\"Accuracy of SVM:\", accuracy_score(Y_validation,Y_pred_validation))\n",
    "\n",
    "#RF\n",
    "Y_pred_validation = clf.predict(X_validation)\n",
    "print(\"Accuracy of RF:\", accuracy_score(Y_validation,Y_pred_validation))\n",
    "\n",
    "\n",
    "print('')\n",
    "\n",
    "\n",
    "#Top 6 Features Accuracy on Three Models\n",
    "\n",
    "print('Top 6 Features Accuracy on Three Models')\n",
    "\n",
    "# Compute Validation Set on NB\n",
    "Y_pred_validation = gnb_6.predict(X_validation_6)\n",
    "print(\"Accuracy of NB:\", accuracy_score(Y_validation_6, Y_pred_validation))\n",
    "\n",
    "# Compute Validation Set on SVM\n",
    "Y_pred_validation = cls_6.predict(X_validation_6)\n",
    "print(\"Accuracy of SVM:\", accuracy_score(Y_validation_6, Y_pred_validation))\n",
    "\n",
    "# Compute Validation Set on RF\n",
    "Y_pred_validation = clf_6.predict(X_validation_6)\n",
    "print(\"Accuracy of NB:\", accuracy_score(Y_validation_6, Y_pred_validation))\n",
    "\n",
    "\n",
    "print('')\n",
    "\n",
    "\n",
    "#Top 11 Features Accuracy on Three Models\n",
    "\n",
    "print('Top 11 Features Accuracy on Three Models')\n",
    "\n",
    "# Compute validation set on NB\n",
    "\n",
    "Y_pred_validation = gnb_11.predict(X_validation_11)\n",
    "print(\"Accuracy of NB:\", accuracy_score(Y_validation_11, Y_pred_validation))\n",
    "\n",
    "# Compute Validation Set on SVM\n",
    "Y_pred_validation = cls_11.predict(X_validation_11)\n",
    "print(\"Accuracy of SVM:\", accuracy_score(Y_validation_11, Y_pred_validation))\n",
    "\n",
    "# Compute Validation Set on RF\n",
    "Y_pred_validation = clf_11.predict(X_validation_11)\n",
    "print(\"Accuracy of RF:\", accuracy_score(Y_validation_11, Y_pred_validation))\n",
    "\n"
   ]
  },
  {
   "cell_type": "markdown",
   "metadata": {},
   "source": [
    "5.4: According to the accuracy, the original models has the higher accuracy than the features selection models. All three models has higher accuracy than the features selection. Without the originial training model, 6 features vs 12 features; they both have similar accuracy. Only SVM has 5% different. NB and RF only has within 1% differences. "
   ]
  },
  {
   "cell_type": "markdown",
   "metadata": {},
   "source": [
    "# Part 6"
   ]
  },
  {
   "cell_type": "code",
   "execution_count": 54,
   "metadata": {},
   "outputs": [],
   "source": [
    "# Obtain Full Training Set\n",
    "\n",
    "X_train_full = strat_train_valid_set.drop('annual-income', axis = 1)\n",
    "Y_train_full = strat_train_valid_set['annual-income']\n",
    "\n",
    "X_test_full = strat_test_set.drop('annual-income', axis = 1)\n",
    "Y_test_full = strat_test_set['annual-income']\n",
    "\n"
   ]
  },
  {
   "cell_type": "code",
   "execution_count": 55,
   "metadata": {},
   "outputs": [
    {
     "data": {
      "text/plain": [
       "{'auc': 0.6262874857722459,\n",
       " 'f1': 0.4237191866409179,\n",
       " 'accuracy': 0.7692622578004185,\n",
       " 'sensitivity': 0.30806078625702016,\n",
       " 'specificity': 0.9445141852874718,\n",
       " 'precision': 0.6784285194616224}"
      ]
     },
     "execution_count": 55,
     "metadata": {},
     "output_type": "execute_result"
    }
   ],
   "source": [
    "# Training NB with Full Training Set\n",
    "\n",
    "gnb_final = GaussianNB()\n",
    "gnb_final.fit(X_train_full, Y_train_full)\n",
    "\n",
    "p1_metrics_scorer(gnb_final, X_train_full, Y_train_full)"
   ]
  },
  {
   "cell_type": "code",
   "execution_count": 56,
   "metadata": {},
   "outputs": [
    {
     "data": {
      "text/plain": [
       "{'auc': 0.5771209275529358,\n",
       " 'f1': 0.268320501853436,\n",
       " 'accuracy': 0.7665787319203129,\n",
       " 'sensitivity': 0.15543442352163858,\n",
       " 'specificity': 0.998807431584233,\n",
       " 'precision': 0.9802083333333333}"
      ]
     },
     "execution_count": 56,
     "metadata": {},
     "output_type": "execute_result"
    }
   ],
   "source": [
    "# Training SVM with Full Training Set\n",
    "\n",
    "svm_final = SVC(probability = True)\n",
    "svm_final.fit(X_train_full, Y_train_full)\n",
    "\n",
    "p1_metrics_scorer(svm_final, X_train_full, Y_train_full)"
   ]
  },
  {
   "cell_type": "code",
   "execution_count": 57,
   "metadata": {},
   "outputs": [
    {
     "data": {
      "text/plain": [
       "{'auc': 0.9998348199537496,\n",
       " 'f1': 0.9998347926647942,\n",
       " 'accuracy': 0.9999090330210134,\n",
       " 'sensitivity': 0.9996696399074991,\n",
       " 'specificity': 1.0,\n",
       " 'precision': 1.0}"
      ]
     },
     "execution_count": 57,
     "metadata": {},
     "output_type": "execute_result"
    }
   ],
   "source": [
    "# Training RF with Full Training Set\n",
    "\n",
    "rf_final = RandomForestClassifier(random_state = 23732975)\n",
    "rf_final.fit(X_train_full, Y_train_full)\n",
    "\n",
    "p1_metrics_scorer(rf_final, X_train_full, Y_train_full)"
   ]
  },
  {
   "cell_type": "code",
   "execution_count": 58,
   "metadata": {},
   "outputs": [],
   "source": [
    "# Obtain Data\n",
    "\n",
    "import re\n",
    "\n",
    "def obtain_data(data):\n",
    "    mean_list = []\n",
    "    std_list = []\n",
    "\n",
    "    for element in data:\n",
    "        if re.search('mean', element):\n",
    "            mean_list.append(data[element])\n",
    "        else:\n",
    "            std_list.append(data[element])\n",
    "    return mean_list, std_list"
   ]
  },
  {
   "cell_type": "code",
   "execution_count": 62,
   "metadata": {},
   "outputs": [
    {
     "name": "stdout",
     "output_type": "stream",
     "text": [
      "auc 0.6264466256157541 (0.00794632133224199)\n",
      "f1 0.42387114025687167 (0.016402993329884208)\n",
      "accuracy 0.7694898739818365 (0.005420354659497654)\n",
      "sensitivity 0.3080653240611202 (0.013838557807225321)\n",
      "specificity 0.9448279271703883 (0.002577551250565085)\n",
      "precision 0.6794088534877638 (0.018232315318810005)\n",
      "test_auc 0.7901068650498544 (0.007361504065180694)\n",
      "test_f1 0.7042996157467795 (0.009314813051023987)\n",
      "test_accuracy 0.8463391466770325 (0.003223682533061079)\n",
      "test_sensitivity 0.6649436969548461 (0.01789140670933161)\n",
      "test_specificity 0.9152700331448627 (0.004508424854580249)\n",
      "test_precision 0.749015585501374 (0.007251267932189218)\n",
      "test_auc 0.7901068650498544 (0.007361504065180694)\n",
      "test_f1 0.7042996157467795 (0.009314813051023987)\n",
      "test_accuracy 0.8463391466770325 (0.003223682533061079)\n",
      "test_sensitivity 0.6649436969548461 (0.01789140670933161)\n",
      "test_specificity 0.9152700331448627 (0.004508424854580249)\n",
      "test_precision 0.749015585501374 (0.007251267932189218)\n",
      "test_auc 0.8071007264162932 (0.009586825208327758)\n",
      "test_f1 0.7320437792627331 (0.012785304613095804)\n",
      "test_accuracy 0.862062524624988 (0.005143892487161168)\n",
      "test_sensitivity 0.6847655988951014 (0.020043870260608554)\n",
      "test_specificity 0.9294358539374852 (0.0027620628670007655)\n",
      "test_precision 0.7866487133281435 (0.006463641919548822)\n"
     ]
    },
    {
     "data": {
      "image/png": "[encoded data removed]",
      "text/plain": [
       "<Figure size 1100x500 with 1 Axes>"
      ]
     },
     "metadata": {},
     "output_type": "display_data"
    }
   ],
   "source": [
    "# Bar Chart\n",
    "\n",
    "from sklearn.metrics import SCORERS\n",
    "from sklearn.model_selection import cross_val_score\n",
    "\n",
    "X_pos = np.arange(len(metric_keys))\n",
    "labels = metric_keys\n",
    "\n",
    "#variable\n",
    "v_svm = collate_cv_results(gnb_lst_accu_stratified)\n",
    "v_gs = collate_ht_results(gs)\n",
    "v_rs = collate_ht_results(rs)\n",
    "v_rf = collate_ht_results(rf)\n",
    "\n",
    "#part2\n",
    "svm_mean_value, svm_std_value = obtain_data(v_svm)\n",
    "#part3\n",
    "gs_mean_value, gs_std_value = obtain_data(v_gs)\n",
    "rf_mean_value, rf_std_value = obtain_data(v_rs)\n",
    "#part4\n",
    "rs_mean_value, rs_std_value = obtain_data(v_rf)\n",
    "\n",
    "\n",
    "# Build the plot\n",
    "fig, ax = plt.subplots()\n",
    "width = 0.2\n",
    "ax.bar(X_pos, svm_mean_value, width, yerr=rs_std_value, align='center', alpha=0.5, capsize=10)\n",
    "ax.bar(X_pos+0.2, gs_mean_value, width, yerr=rs_std_value, align='center', alpha=0.5, capsize=10)\n",
    "ax.bar(X_pos+0.4, rf_mean_value, width, yerr=rs_std_value, align='center', alpha=0.5, capsize=10)\n",
    "ax.bar(X_pos-0.2, rs_mean_value, width, yerr=rf_std_value, align='center', alpha=0.5, capsize=10)\n",
    "ax.set_xticks(X_pos)\n",
    "ax.set_xticklabels(labels)\n",
    "ax.legend(['NB', 'GridSearchCV', 'RandomizedSearchCV', 'RandomForest'])\n",
    "\n",
    "fig.set_size_inches(11, 5, forward=True)\n",
    "fig.tight_layout()\n",
    "plt.show()\n",
    "\n"
   ]
  },
  {
   "cell_type": "code",
   "execution_count": 66,
   "metadata": {},
   "outputs": [
    {
     "data": {
      "text/plain": [
       "<matplotlib.legend.Legend at 0x127fdb370>"
      ]
     },
     "execution_count": 66,
     "metadata": {},
     "output_type": "execute_result"
    },
    {
     "data": {
      "image/png": "[encoded data removed]",
      "text/plain": [
       "<Figure size 640x480 with 1 Axes>"
      ]
     },
     "metadata": {},
     "output_type": "display_data"
    }
   ],
   "source": [
    "# ROC\n",
    "\n",
    "from sklearn.metrics import roc_curve\n",
    "from sklearn.metrics import roc_auc_score\n",
    "from sklearn.metrics import auc\n",
    "\n",
    "# NB\n",
    "y_pred = gnb_final.predict_proba(X_test_full)[:, 1]\n",
    "fpr, tpr, _ = roc_curve(Y_test_full, y_pred)\n",
    "auc = round(roc_auc_score(Y_test_full, y_pred), 4)\n",
    "plt.plot(fpr, tpr, label=\"NB AUC=\" + str(auc))\n",
    "\n",
    "# SVM\n",
    "y_pred = svm_final.predict_proba(X_test_full)[:, 1]\n",
    "fpr, tpr, _ = roc_curve(Y_test_full, y_pred)\n",
    "auc = round(roc_auc_score(Y_test_full, y_pred), 4)\n",
    "plt.plot(fpr, tpr, label=\"SVM AUC=\" + str(auc))\n",
    "\n",
    "# RF\n",
    "y_pred = rf_final.predict_proba(X_test_full)[:, 1]\n",
    "fpr, tpr, _ = roc_curve(Y_test_full, y_pred)\n",
    "auc = round(roc_auc_score(Y_test_full, y_pred), 4)\n",
    "plt.plot(fpr, tpr, label=\"RF AUC=\" + str(auc))\n",
    "\n",
    "plt.legend()"
   ]
  },
  {
   "cell_type": "markdown",
   "metadata": {},
   "source": [
    "6.4: In this dataset, we can see that RF is most accurate and best AUC. NB has good accurate rate and AUC. But SVM has the worest accuracy and AUC. In additional, SVM takes much more time than NB and RF."
   ]
  }
 ],
 "metadata": {
  "kernelspec": {
   "display_name": "Python 3.8.9 64-bit",
   "language": "python",
   "name": "python3"
  },
  "language_info": {
   "codemirror_mode": {
    "name": "ipython",
    "version": 3
   },
   "file_extension": ".py",
   "mimetype": "text/x-python",
   "name": "python",
   "nbconvert_exporter": "python",
   "pygments_lexer": "ipython3",
   "version": "3"
  },
  "orig_nbformat": 4,
  "vscode": {
   "interpreter": {
    "hash": "31f2aee4e71d21fbe5cf8b01ff0e069b9275f58929596ceb00d14d90e3e16cd6"
   }
  }
 },
 "nbformat": 4,
 "nbformat_minor": 2
}
